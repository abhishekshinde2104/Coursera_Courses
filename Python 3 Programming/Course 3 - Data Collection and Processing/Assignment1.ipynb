{
 "cells": [
  {
   "cell_type": "code",
   "execution_count": 1,
   "metadata": {},
   "outputs": [
    {
     "name": "stdout",
     "output_type": "stream",
     "text": [
      "snake\n"
     ]
    }
   ],
   "source": [
    "\n",
    "nested = [['dog', 'cat', 'horse'], ['frog', 'turtle', 'snake', 'gecko'], ['hamster', 'gerbil', 'rat', 'ferret']]\n",
    "\n",
    "output=nested[1][2]\n",
    "print(output)"
   ]
  },
  {
   "cell_type": "code",
   "execution_count": 2,
   "metadata": {},
   "outputs": [],
   "source": [
    "\n",
    "lst = [['apple', 'orange', 'banana'], [5, 6, 7, 8, 9.9, 10], ['green', 'yellow', 'purple', 'red']]\n",
    "\n",
    "#Test to see if 'yellow' is in the third list of lst. Save to variable ``yellow``\n",
    "if 'yellow' in lst[2]:\n",
    "    yellow=True\n",
    "else:\n",
    "    yellow=False\n",
    "#Test to see if 4 is in the second list of lst. Save to variable ``four``\n",
    "if 4 in lst[1]:\n",
    "    four=True\n",
    "else:\n",
    "    four=False\n",
    "\n",
    "#Test to see if 'orange' is in the first element of lst. Save to variable ``orange``\n",
    "if 'orange' in lst[0]:\n",
    "    orange=True\n",
    "else:\n",
    "    orange=False"
   ]
  },
  {
   "cell_type": "code",
   "execution_count": 3,
   "metadata": {},
   "outputs": [],
   "source": [
    "\n",
    "L = [[5, 8, 7], ['hello', 'hi', 'hola'], [6.6, 1.54, 3.99], ['small', 'large']]\n",
    "\n",
    "# Test if 'hola' is in the list L. Save to variable name test1\n",
    "if 'hola' in L:\n",
    "    test1=True\n",
    "else:\n",
    "    test1=False\n",
    "\n",
    "# Test if [5, 8, 7] is in the list L. Save to variable name test2\n",
    "if [5,8,7] in L:\n",
    "    test2=True\n",
    "\n",
    "else:\n",
    "    test2=False\n",
    "# Test if 6.6 is in the third element of list L. Save to variable name test3\n",
    "if 6.6 in L[2]:\n",
    "    test3=True\n",
    "else:\n",
    "    test3=False\n"
   ]
  },
  {
   "cell_type": "code",
   "execution_count": 5,
   "metadata": {},
   "outputs": [],
   "source": [
    "\n",
    "nested = {'data': ['finding', 23, ['exercises', 'hangout', 34]], \n",
    "          'window': ['part', 'whole', [], 'sum', ['math', 'calculus', 'algebra', 'geometry', 'statistics',['physics', 'chemistry', 'biology']]]}\n",
    "\n",
    "# Check to see if the string data is a key in nested, if it is, assign True to the variable data, otherwise assign False.\n",
    "if nested.keys()==str:\n",
    "    data=True\n",
    "else:\n",
    "    data=False\n",
    "# Check to see if the integer 24 is in the value of the key data, if it is then assign to the variable twentyfour the value of True, otherwise False.\n",
    "if 24 in nested['data']:\n",
    "    twentyfour=True\n",
    "else:\n",
    "    twentyfour=False\n",
    "# Check to see that the string 'whole' is not in the value of the key window. If it's not, then assign to the variable whole the value of True, otherwise False.\n",
    "if 'whole' in nested['window']:\n",
    "    whole=False\n",
    "else:\n",
    "    whole=True\n",
    "# Check to see if the string 'physics' is a key in the dictionary nested. If it is, assign to the variable physics, the value of True, otherwise False.\n",
    "if 'physics' in nested.keys():\n",
    "    physics=True\n",
    "else:\n",
    "    physics=False"
   ]
  },
  {
   "cell_type": "code",
   "execution_count": 6,
   "metadata": {},
   "outputs": [
    {
     "name": "stdout",
     "output_type": "stream",
     "text": [
      "29\n"
     ]
    }
   ],
   "source": [
    "\n",
    "nested_d = {'Beijing':{'China':51, 'USA':36, 'Russia':22, 'Great Britain':19}, \n",
    "            'London':{'USA':46, 'China':38, 'Great Britain':29, 'Russia':22}, \n",
    "            'Rio':{'USA':35, 'Great Britain':22, 'China':20, 'Germany':13}}\n",
    "\n",
    "\n",
    "london_gold=nested_d['London']['Great Britain']\n",
    "print(london_gold)"
   ]
  },
  {
   "cell_type": "code",
   "execution_count": 8,
   "metadata": {},
   "outputs": [
    {
     "name": "stdout",
     "output_type": "stream",
     "text": [
      "backstroke\n",
      "platform\n",
      "['vault', 'floor', 'uneven bars', 'balance beam']\n",
      "rings\n"
     ]
    }
   ],
   "source": [
    "\n",
    "sports = {'swimming': ['butterfly', 'breaststroke', 'backstroke', 'freestyle'], \n",
    "          'diving': ['springboard', 'platform', 'synchronized'], \n",
    "          'track': ['sprint', 'distance', 'jumps', 'throws'], \n",
    "          'gymnastics': {'women':['vault', 'floor', 'uneven bars', 'balance beam'], \n",
    "          'men': ['vault', 'parallel bars', 'floor', 'rings']}}\n",
    "\n",
    "# Assign the string 'backstroke' to the name v1\n",
    "v1=sports['swimming'][2]\n",
    "print(v1)\n",
    "\n",
    "# Assign the string 'platform' to the name v2\n",
    "v2=sports['diving'][1]\n",
    "print(v2)\n",
    "\n",
    "# Assign the list ['vault', 'floor', 'uneven bars', 'balance beam'] to the name v3\n",
    "v3=sports['gymnastics']['women']\n",
    "print(v3)\n",
    "\n",
    "# Assign the string 'rings' to the name v4\n",
    "v4=sports['gymnastics']['men'][3]\n",
    "print(v4)\n"
   ]
  },
  {
   "cell_type": "code",
   "execution_count": 17,
   "metadata": {},
   "outputs": [
    {
     "name": "stdout",
     "output_type": "stream",
     "text": [
      "[36, 46, 35]\n"
     ]
    }
   ],
   "source": [
    "\n",
    "nested_d = {'Beijing':{'China':51, 'USA':36, 'Russia':22, 'Great Britain':19},\n",
    "            'London':{'USA':46, 'China':38, 'Great Britain':29, 'Russia':22}, \n",
    "            'Rio':{'USA':35, 'Great Britain':22, 'China':20, 'Germany':13}}\n",
    "\n",
    "US_count = []\n",
    "\n",
    "for item in nested_d.values():\n",
    "    US_count.append(item['USA'])\n",
    "    \n",
    "\n",
    "print(US_count)"
   ]
  },
  {
   "cell_type": "code",
   "execution_count": 18,
   "metadata": {},
   "outputs": [
    {
     "name": "stdout",
     "output_type": "stream",
     "text": [
      "['blue', 'blood orange', 'lavender', 'mac n cheese']\n"
     ]
    }
   ],
   "source": [
    "\n",
    "l_of_l = [['purple', 'mauve', 'blue'], \n",
    "          ['red', 'maroon', 'blood orange', 'crimson'], \n",
    "          ['sea green', 'cornflower', 'lavender', 'indigo'], \n",
    "          ['yellow', 'amarillo', 'mac n cheese', 'golden rod']]\n",
    "\n",
    "third=[]\n",
    "\n",
    "for item in l_of_l:\n",
    "    third.append(item[2])\n",
    "    \n",
    "print(third)"
   ]
  },
  {
   "cell_type": "code",
   "execution_count": 19,
   "metadata": {},
   "outputs": [
    {
     "name": "stdout",
     "output_type": "stream",
     "text": [
      "['Lochte', 'Bolt', 'Eaton', 'Dalton']\n",
      "['Phelps', 'Schooling', 'Ledecky', 'Franklin', 'Felix', 'Gardner', 'Biles', 'Douglas', 'Hamm', 'Raisman', 'Mikulak']\n"
     ]
    }
   ],
   "source": [
    "\n",
    "athletes = [['Phelps', 'Lochte', 'Schooling', 'Ledecky', 'Franklin'],\n",
    "            ['Felix', 'Bolt', 'Gardner', 'Eaton'], \n",
    "            ['Biles', 'Douglas', 'Hamm', 'Raisman', 'Mikulak', 'Dalton']]\n",
    "\n",
    "t=[]\n",
    "other=[]\n",
    "\n",
    "for item in athletes:\n",
    "    for x in item:\n",
    "        if 't' in x:\n",
    "            t.append(x)\n",
    "        else:\n",
    "            other.append(x)\n",
    "print(t)\n",
    "print(other)"
   ]
  },
  {
   "cell_type": "code",
   "execution_count": null,
   "metadata": {},
   "outputs": [],
   "source": []
  }
 ],
 "metadata": {
  "kernelspec": {
   "display_name": "Python 3",
   "language": "python",
   "name": "python3"
  },
  "language_info": {
   "codemirror_mode": {
    "name": "ipython",
    "version": 3
   },
   "file_extension": ".py",
   "mimetype": "text/x-python",
   "name": "python",
   "nbconvert_exporter": "python",
   "pygments_lexer": "ipython3",
   "version": "3.7.3"
  }
 },
 "nbformat": 4,
 "nbformat_minor": 2
}
