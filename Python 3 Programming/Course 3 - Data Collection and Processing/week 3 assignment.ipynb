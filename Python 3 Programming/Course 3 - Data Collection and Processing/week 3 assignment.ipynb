{
 "cells": [
  {
   "cell_type": "code",
   "execution_count": 1,
   "metadata": {},
   "outputs": [
    {
     "ename": "ModuleNotFoundError",
     "evalue": "No module named 'requests_with_caching'",
     "output_type": "error",
     "traceback": [
      "\u001b[1;31m---------------------------------------------------------------------------\u001b[0m",
      "\u001b[1;31mModuleNotFoundError\u001b[0m                       Traceback (most recent call last)",
      "\u001b[1;32m<ipython-input-1-7eb6589fafb8>\u001b[0m in \u001b[0;36m<module>\u001b[1;34m\u001b[0m\n\u001b[0;32m      3\u001b[0m \u001b[1;33m\u001b[0m\u001b[0m\n\u001b[0;32m      4\u001b[0m \u001b[1;33m\u001b[0m\u001b[0m\n\u001b[1;32m----> 5\u001b[1;33m \u001b[1;32mimport\u001b[0m \u001b[0mrequests_with_caching\u001b[0m\u001b[1;33m\u001b[0m\u001b[1;33m\u001b[0m\u001b[0m\n\u001b[0m\u001b[0;32m      6\u001b[0m \u001b[1;32mimport\u001b[0m \u001b[0mjson\u001b[0m\u001b[1;33m\u001b[0m\u001b[1;33m\u001b[0m\u001b[0m\n\u001b[0;32m      7\u001b[0m \u001b[1;33m\u001b[0m\u001b[0m\n",
      "\u001b[1;31mModuleNotFoundError\u001b[0m: No module named 'requests_with_caching'"
     ]
    }
   ],
   "source": [
    "\n",
    "# some invocations that we use in the automated tests; uncomment these if you are getting errors and want better error messages\n",
    "\n",
    "\n",
    "import requests_with_caching\n",
    "import json\n",
    "\n",
    "def get_movies_from_tastedive(movies):\n",
    "    baseurl = \"https://tastedive.com/api/similar\"\n",
    "    params_diction = {}\n",
    "    params_diction[\"q\"] = movies\n",
    "    params_diction[\"type\"] = \"movies\"\n",
    "    params_diction[\"limit\"] = 5 \n",
    "    movie_resp = requests_with_caching.get(baseurl, params = params_diction)\n",
    "    #print(movie_resp.json())\n",
    "    return movie_resp.json()\n",
    "    \n",
    "get_movies_from_tastedive(\"Bridesmaids\")\n",
    "get_movies_from_tastedive(\"Black Panther\")"
   ]
  },
  {
   "cell_type": "code",
   "execution_count": 2,
   "metadata": {},
   "outputs": [],
   "source": [
    "def extract_movie_titles(movieName):\n",
    "    result=[]\n",
    "    for listRes in movieName['Similar']['Results']:\n",
    "        result.append(listRes['Name'])\n",
    "    return result"
   ]
  },
  {
   "cell_type": "code",
   "execution_count": 3,
   "metadata": {},
   "outputs": [],
   "source": [
    "def get_related_titles(listMovieName):\n",
    "    if listMovieName != []:\n",
    "        auxList=[]\n",
    "        relatedList=[]\n",
    "        for movieName in listMovieName:\n",
    "            auxList = extract_movie_titles(get_movies_from_tastedive(movieName))\n",
    "            for movieNameAux in auxList:\n",
    "                if movieNameAux not in relatedList:\n",
    "                    relatedList.append(movieNameAux)\n",
    "        \n",
    "        return relatedList\n",
    "    return listMovieName"
   ]
  },
  {
   "cell_type": "code",
   "execution_count": 4,
   "metadata": {},
   "outputs": [
    {
     "ename": "ModuleNotFoundError",
     "evalue": "No module named 'requests_with_caching'",
     "output_type": "error",
     "traceback": [
      "\u001b[1;31m---------------------------------------------------------------------------\u001b[0m",
      "\u001b[1;31mModuleNotFoundError\u001b[0m                       Traceback (most recent call last)",
      "\u001b[1;32m<ipython-input-4-425d79521460>\u001b[0m in \u001b[0;36m<module>\u001b[1;34m\u001b[0m\n\u001b[0;32m      2\u001b[0m \u001b[1;31m# some invocations that we use in the automated tests; uncomment these if you are getting errors and want better error messages\u001b[0m\u001b[1;33m\u001b[0m\u001b[1;33m\u001b[0m\u001b[1;33m\u001b[0m\u001b[0m\n\u001b[0;32m      3\u001b[0m \u001b[1;33m\u001b[0m\u001b[0m\n\u001b[1;32m----> 4\u001b[1;33m \u001b[1;32mimport\u001b[0m \u001b[0mrequests_with_caching\u001b[0m\u001b[1;33m\u001b[0m\u001b[1;33m\u001b[0m\u001b[0m\n\u001b[0m\u001b[0;32m      5\u001b[0m \u001b[1;32mimport\u001b[0m \u001b[0mrequests\u001b[0m\u001b[1;33m\u001b[0m\u001b[1;33m\u001b[0m\u001b[0m\n\u001b[0;32m      6\u001b[0m \u001b[1;32mimport\u001b[0m \u001b[0mjson\u001b[0m\u001b[1;33m\u001b[0m\u001b[1;33m\u001b[0m\u001b[0m\n",
      "\u001b[1;31mModuleNotFoundError\u001b[0m: No module named 'requests_with_caching'"
     ]
    }
   ],
   "source": [
    "\n",
    "# some invocations that we use in the automated tests; uncomment these if you are getting errors and want better error messages\n",
    "\n",
    "import requests_with_caching\n",
    "import requests\n",
    "import json\n",
    "\n",
    "def get_movie_data(movieName, key=\"546c6742\"):\n",
    "    baseurl= \"http://www.omdbapi.com/\"\n",
    "    params_d = {}\n",
    "    params_d[\"t\"]= movieName\n",
    "    params_d[\"apikey\"]= key\n",
    "    params_d[\"r\"]= \"json\"\n",
    "    resp = requests_with_caching.get(baseurl, params=params_d)\n",
    "    print(resp.url)\n",
    "    respDic = resp.json()\n",
    "    return respDic\n",
    "\n",
    "\n",
    "get_movie_data(\"Venom\")\n",
    "get_movie_data(\"Baby Mama\")\n",
    "\n"
   ]
  },
  {
   "cell_type": "code",
   "execution_count": 5,
   "metadata": {},
   "outputs": [],
   "source": [
    "def get_movie_rating(movieNameJson):\n",
    "    strRanting=\"\"\n",
    "    for typeRantingList in movieNameJson[\"Ratings\"]:\n",
    "        if typeRantingList[\"Source\"]== \"Rotten Tomatoes\":\n",
    "            strRanting = typeRantingList[\"Value\"]\n",
    "    if strRanting != \"\":\n",
    "        ranting = int(strRanting[:2])\n",
    "    else: ranting = 0\n",
    "    return ranting"
   ]
  },
  {
   "cell_type": "code",
   "execution_count": 6,
   "metadata": {},
   "outputs": [],
   "source": [
    "def get_sorted_recommendations(listMovieTitle):\n",
    "    listMovie= get_related_titles(listMovieTitle)\n",
    "    listMovie= sorted(listMovie, key = lambda movieName: (get_movie_rating(get_movie_data(movieName)), movieName), reverse=True)\n",
    "    return listMovie"
   ]
  },
  {
   "cell_type": "code",
   "execution_count": null,
   "metadata": {},
   "outputs": [],
   "source": [
    "  \n",
    "import requests_with_caching\n",
    "import json\n",
    "\n",
    "\n",
    "# some invocations that we use in the automated tests; uncomment these if you are getting errors and want better error messages\n",
    "# get_sorted_recommendations([\"Bridesmaids\", \"Sherlock Holmes\"])\n",
    "def get_movies_from_tastedive(name):\n",
    "    parameters = {\"q\": name, \"type\": \"movies\", \"limit\": 5}\n",
    "    tastedive_response = requests_with_caching.get(\"https://tastedive.com/api/similar\", params=parameters)\n",
    "    py_data = json.loads(tastedive_response.text)\n",
    "    return py_data\n",
    "\n",
    "\n",
    "def extract_movie_titles(dic_from_get_movies):\n",
    "    movie_title = list()\n",
    "    movie_info = dic_from_get_movies[\"Similar\"][\"Results\"]\n",
    "    for movie in movie_info:\n",
    "        movie_title.append(movie[\"Name\"])\n",
    "    return movie_title\n",
    "\n",
    "\n",
    "def get_related_titles(list_of_movie_title):\n",
    "    print(list_of_movie_title)\n",
    "    new_list = list()\n",
    "    for title in list_of_movie_title:\n",
    "        a = get_movies_from_tastedive(title)\n",
    "        b = extract_movie_titles(a)\n",
    "        for movie in b:\n",
    "            if movie not in new_list:\n",
    "                new_list.append(movie)\n",
    "    return new_list\n",
    "\n",
    "\n",
    "def get_movie_data(movie_name):\n",
    "    parameters = {'t': movie_name, 'r': 'json'}\n",
    "    omdbapi_response = requests_with_caching.get('http://www.omdbapi.com/', params=parameters)\n",
    "    a = json.loads(omdbapi_response.text)\n",
    "    return a\n",
    "\n",
    "\n",
    "def get_movie_rating(movie_dict):\n",
    "    if len(movie_dict['Ratings']) > 1:\n",
    "        if movie_dict['Ratings'][1]['Source'] == 'Rotten Tomatoes':\n",
    "            rotten_rating = movie_dict['Ratings'][1]['Value'][:2]\n",
    "            rotten_rating = int(rotten_rating)\n",
    "    else:\n",
    "        rotten_rating = 0\n",
    "\n",
    "    return rotten_rating\n",
    "\n",
    "\n",
    "def getkey(item):\n",
    "    return item[1]\n",
    "\n",
    "\n",
    "def get_sorted_recommendations(list_of_movies):\n",
    "    related_movies = get_related_titles(list_of_movies)\n",
    "    ratings = list()\n",
    "    sorted_list = list()\n",
    "    for movie in related_movies:\n",
    "        a = get_movie_data(movie)\n",
    "        ratings.append(get_movie_rating(a))\n",
    "\n",
    "    temp_tuple1 = zip(related_movies, ratings)\n",
    "    temp_tuple2 = sorted(temp_tuple1, key=getkey, reverse=True)\n",
    "    print(temp_tuple2)\n",
    "    for i in range(len(temp_tuple2) - 1):\n",
    "        if temp_tuple2[i][0] not in sorted_list:\n",
    "            if temp_tuple2[i][1] == temp_tuple2[i + 1][1]:\n",
    "                if temp_tuple2[i][0] < temp_tuple2[i + 1][0]:\n",
    "                    sorted_list.append(temp_tuple2[i + 1][0])\n",
    "                    sorted_list.append(temp_tuple2[i][0])\n",
    "            else:\n",
    "                sorted_list.append(temp_tuple2[i][0])\n",
    "\n",
    "    print(sorted_list)\n",
    "\n",
    "    return sorted_list\n",
    "\n"
   ]
  }
 ],
 "metadata": {
  "kernelspec": {
   "display_name": "Python 3",
   "language": "python",
   "name": "python3"
  },
  "language_info": {
   "codemirror_mode": {
    "name": "ipython",
    "version": 3
   },
   "file_extension": ".py",
   "mimetype": "text/x-python",
   "name": "python",
   "nbconvert_exporter": "python",
   "pygments_lexer": "ipython3",
   "version": "3.7.3"
  }
 },
 "nbformat": 4,
 "nbformat_minor": 2
}
