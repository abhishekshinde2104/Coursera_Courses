{
 "cells": [
  {
   "cell_type": "code",
   "execution_count": 4,
   "metadata": {},
   "outputs": [],
   "source": [
    "#Reading a File\n",
    "#open function returns a file obejct\n",
    "fileref=open(\"olympics.txt\",\"r\")\n",
    "fileref.close()"
   ]
  },
  {
   "cell_type": "code",
   "execution_count": 43,
   "metadata": {},
   "outputs": [
    {
     "name": "stdout",
     "output_type": "stream",
     "text": [
      "<class 'str'>\n",
      "3178\n",
      "Name,Sex,Age,Team,Event,Medal\n",
      "A Dijiang,M,24,China,Basketball,NA\n",
      "A Lamusi,M,23,China,Judo,NA\n",
      "Gunnar \n"
     ]
    }
   ],
   "source": [
    "fileref=open(\"olympics.txt\",\"r\")\n",
    "contents=fileref.read()\n",
    "print(type(contents))\n",
    "print(len(contents))\n",
    "print(contents[:100])#this gives 1st 100 characters\n",
    "fileref.close()"
   ]
  },
  {
   "cell_type": "code",
   "execution_count": 10,
   "metadata": {},
   "outputs": [
    {
     "name": "stdout",
     "output_type": "stream",
     "text": [
      "<class 'list'>\n",
      "['Name,Sex,Age,Team,Event,Medal\\n', 'A Dijiang,M,24,China,Basketball,NA\\n', 'A Lamusi,M,23,China,Judo,NA\\n', 'Gunnar Nielsen Aaby,M,24,Denmark,Football,NA\\n']\n"
     ]
    }
   ],
   "source": [
    "fileref=open(\"olympics.txt\",\"r\")\n",
    "lines=fileref.readlines()\n",
    "print(type(lines))\n",
    "print(lines[:4])\n",
    "fileref.close()"
   ]
  },
  {
   "cell_type": "code",
   "execution_count": 11,
   "metadata": {},
   "outputs": [
    {
     "name": "stdout",
     "output_type": "stream",
     "text": [
      "Name,Sex,Age,Team,Event,Medal\n",
      "\n",
      "A Dijiang,M,24,China,Basketball,NA\n",
      "\n",
      "A Lamusi,M,23,China,Judo,NA\n",
      "\n",
      "Gunnar Nielsen Aaby,M,24,Denmark,Football,NA\n",
      "\n"
     ]
    }
   ],
   "source": [
    "fileref=open(\"olympics.txt\",\"r\")\n",
    "lines=fileref.readlines()\n",
    "for line in lines[:4]:\n",
    "    print(line)\n",
    "fileref.close()"
   ]
  },
  {
   "cell_type": "code",
   "execution_count": 12,
   "metadata": {},
   "outputs": [
    {
     "name": "stdout",
     "output_type": "stream",
     "text": [
      "Name,Sex,Age,Team,Event,Medal\n",
      "A Dijiang,M,24,China,Basketball,NA\n",
      "A Lamusi,M,23,China,Judo,NA\n",
      "Gunnar Nielsen Aaby,M,24,Denmark,Football,NA\n"
     ]
    }
   ],
   "source": [
    "fileref=open(\"olympics.txt\",\"r\")\n",
    "lines=fileref.readlines()\n",
    "for line in lines[:4]:\n",
    "    print(line.strip())\n",
    "fileref.close()"
   ]
  },
  {
   "cell_type": "code",
   "execution_count": 13,
   "metadata": {},
   "outputs": [
    {
     "name": "stdout",
     "output_type": "stream",
     "text": [
      "Name,Sex,Age,Team,Event,Medal\n",
      "A Dijiang,M,24,China,Basketball,NA\n",
      "A Lamusi,M,23,China,Judo,NA\n",
      "Gunnar Nielsen Aaby,M,24,Denmark,Football,NA\n",
      "Edgar Lindenau Aabye,M,34,Denmark/Sweden,Tug-Of-War,Gold\n",
      "Christine Jacoba Aaftink,F,21,Netherlands,Speed Skating,NA\n",
      "Christine Jacoba Aaftink,F,21,Netherlands,Speed Skating,NA\n",
      "Christine Jacoba Aaftink,F,25,Netherlands,Speed Skating,NA\n",
      "Christine Jacoba Aaftink,F,25,Netherlands,Speed Skating,NA\n",
      "Christine Jacoba Aaftink,F,27,Netherlands,Speed Skating,NA\n",
      "Christine Jacoba Aaftink,F,27,Netherlands,Speed Skating,NA\n",
      "Per Knut Aaland,M,31,United States,Cross Country Skiing,NA\n",
      "Per Knut Aaland,M,31,United States,Cross Country Skiing,NA\n",
      "Per Knut Aaland,M,31,United States,Cross Country Skiing,NA\n",
      "Per Knut Aaland,M,31,United States,Cross Country Skiing,NA\n",
      "Per Knut Aaland,M,33,United States,Cross Country Skiing,NA\n",
      "Per Knut Aaland,M,33,United States,Cross Country Skiing,NA\n",
      "Per Knut Aaland,M,33,United States,Cross Country Skiing,NA\n",
      "Per Knut Aaland,M,33,United States,Cross Country Skiing,NA\n",
      "John Aalberg,M,31,United States,Cross Country Skiing,NA\n",
      "John Aalberg,M,31,United States,Cross Country Skiing,NA\n",
      "John Aalberg,M,31,United States,Cross Country Skiing,NA\n",
      "John Aalberg,M,31,United States,Cross Country Skiing,NA\n",
      "John Aalberg,M,33,United States,Cross Country Skiing,NA\n",
      "John Aalberg,M,33,United States,Cross Country Skiing,NA\n",
      "John Aalberg,M,33,United States,Cross Country Skiing,NA\n",
      "John Aalberg,M,33,United States,Cross Country Skiing,NA\n",
      "\"Cornelia \"\"Cor\"\" Aalten (-Strannood)\",F,18,Netherlands,Athletics,NA\n",
      "\"Cornelia \"\"Cor\"\" Aalten (-Strannood)\",F,18,Netherlands,Athletics,NA\n",
      "Antti Sami Aalto,M,26,Finland,Ice Hockey,NA\n",
      "\"Einar Ferdinand \"\"Einari\"\" Aalto\",M,26,Finland,Swimming,NA\n",
      "Jorma Ilmari Aalto,M,22,Finland,Cross Country Skiing,NA\n",
      "Jyri Tapani Aalto,M,31,Finland,Badminton,NA\n",
      "Minna Maarit Aalto,F,30,Finland,Sailing,NA\n",
      "Minna Maarit Aalto,F,34,Finland,Sailing,NA\n",
      "Pirjo Hannele Aalto (Mattila-),F,32,Finland,Biathlon,NA\n",
      "Arvo Ossian Aaltonen,M,22,Finland,Swimming,NA\n",
      "Arvo Ossian Aaltonen,M,22,Finland,Swimming,NA\n",
      "Arvo Ossian Aaltonen,M,30,Finland,Swimming,Bronze\n",
      "Arvo Ossian Aaltonen,M,30,Finland,Swimming,Bronze\n",
      "Arvo Ossian Aaltonen,M,34,Finland,Swimming,NA\n",
      "Juhamatti Tapio Aaltonen,M,28,Finland,Ice Hockey,Bronze\n",
      "Paavo Johannes Aaltonen,M,28,Finland,Gymnastics,Bronze\n",
      "Paavo Johannes Aaltonen,M,28,Finland,Gymnastics,Gold\n",
      "Paavo Johannes Aaltonen,M,28,Finland,Gymnastics,NA\n",
      "Paavo Johannes Aaltonen,M,28,Finland,Gymnastics,Gold\n",
      "Paavo Johannes Aaltonen,M,28,Finland,Gymnastics,NA\n",
      "Paavo Johannes Aaltonen,M,28,Finland,Gymnastics,NA\n",
      "Paavo Johannes Aaltonen,M,28,Finland,Gymnastics,NA\n",
      "Paavo Johannes Aaltonen,M,28,Finland,Gymnastics,Gold\n",
      "Paavo Johannes Aaltonen,M,32,Finland,Gymnastics,NA\n",
      "Paavo Johannes Aaltonen,M,32,Finland,Gymnastics,Bronze\n",
      "Paavo Johannes Aaltonen,M,32,Finland,Gymnastics,NA\n",
      "Paavo Johannes Aaltonen,M,32,Finland,Gymnastics,NA\n",
      "Paavo Johannes Aaltonen,M,32,Finland,Gymnastics,NA\n",
      "Paavo Johannes Aaltonen,M,32,Finland,Gymnastics,NA\n",
      "Paavo Johannes Aaltonen,M,32,Finland,Gymnastics,NA\n",
      "Paavo Johannes Aaltonen,M,32,Finland,Gymnastics,NA\n",
      "Timo Antero Aaltonen,M,31,Finland,Athletics,NA\n",
      "Win Valdemar Aaltonen,M,54,Finland,Art Competitions,NA\n"
     ]
    }
   ],
   "source": [
    "#shorter way to iterate:\n",
    "fileref=open(\"olympics.txt\",\"r\")\n",
    "#lines=fileref.readlines()\n",
    "for line in fileref:\n",
    "    print(line.strip())\n",
    "fileref.close()"
   ]
  },
  {
   "cell_type": "code",
   "execution_count": 14,
   "metadata": {},
   "outputs": [
    {
     "name": "stdout",
     "output_type": "stream",
     "text": [
      "60\n"
     ]
    }
   ],
   "source": [
    "print(len(lines))#how many lines are there in the file"
   ]
  },
  {
   "cell_type": "code",
   "execution_count": 15,
   "metadata": {},
   "outputs": [
    {
     "name": "stdout",
     "output_type": "stream",
     "text": [
      "3178\n"
     ]
    }
   ],
   "source": [
    "print(len(contents))#how many characters in your file"
   ]
  },
  {
   "cell_type": "code",
   "execution_count": 16,
   "metadata": {},
   "outputs": [
    {
     "name": "stdout",
     "output_type": "stream",
     "text": [
      "0\n",
      "1\n",
      "4\n",
      "9\n",
      "16\n",
      "25\n",
      "36\n",
      "49\n",
      "64\n",
      "81\n",
      "100\n",
      "121\n",
      "144\n"
     ]
    }
   ],
   "source": [
    "#WRITING IN A FILE\n",
    "\n",
    "for num in range(13):\n",
    "    square=num*num\n",
    "    print(square)\n"
   ]
  },
  {
   "cell_type": "code",
   "execution_count": 18,
   "metadata": {},
   "outputs": [],
   "source": [
    "file=open(\"squares.txt\",\"w\")\n",
    "for num in range(13):\n",
    "    square=num*num\n",
    "    file.write(str(square))#here we have to give it a string to write in a file\n",
    "file.close()"
   ]
  },
  {
   "cell_type": "code",
   "execution_count": 19,
   "metadata": {},
   "outputs": [],
   "source": [
    "file=open(\"squares1.txt\",\"w\")\n",
    "for num in range(13):\n",
    "    square=num*num\n",
    "    file.write(str(square))#here we have to give it a string to write in a file\n",
    "    file.write('\\n')\n",
    "file.close()"
   ]
  },
  {
   "cell_type": "code",
   "execution_count": 21,
   "metadata": {},
   "outputs": [],
   "source": [
    "file=open(\"squares2.txt\",\"w\")\n",
    "for num in range(13):\n",
    "    square=num*num\n",
    "    file.write((str(num)+' X '+str(num)+' = '+str(square)))#here we have to give it a string to write in a file\n",
    "    file.write('\\n')\n",
    "file.close()"
   ]
  },
  {
   "cell_type": "code",
   "execution_count": 24,
   "metadata": {},
   "outputs": [],
   "source": [
    "file=open(\"squares2.txt\",\"w\")\n",
    "for num in range(13):\n",
    "    square=num*num\n",
    "    file.write((str(num)+' X '+str(num)+' = '+str(square)))#here we have to give it a string to write in a file\n",
    "    file.write('\\n')\n",
    "file.close()\n",
    "\n"
   ]
  },
  {
   "cell_type": "code",
   "execution_count": 27,
   "metadata": {},
   "outputs": [
    {
     "name": "stdout",
     "output_type": "stream",
     "text": [
      "0 X 0 = 0\n",
      "1 X 1 = 1\n",
      "2 X 2 = 4\n",
      "3 X 3 = 9\n",
      "4 X 4 = 16\n",
      "5 X 5 = 25\n",
      "6 X 6 = 36\n",
      "7 X 7 = 49\n",
      "8 X 8 = 64\n",
      "9 X 9 = 81\n",
      "10 X 10 = 100\n",
      "11 X 11 = 121\n",
      "12 X 12 = 144\n",
      "\n"
     ]
    }
   ],
   "source": [
    "new_obj=open(\"squares2.txt\",\"r\")\n",
    "print(new_obj.read())\n",
    "new_obj.close()"
   ]
  },
  {
   "cell_type": "code",
   "execution_count": 30,
   "metadata": {},
   "outputs": [
    {
     "name": "stdout",
     "output_type": "stream",
     "text": [
      "1 2 3\n",
      "4 5 6\n"
     ]
    }
   ],
   "source": [
    "#USING WITH TO OPEN FILES\n",
    "fname='mydata.txt'\n",
    "with open(fname,'r') as md:\n",
    "    print(md.read())\n",
    "    #md.readlines()\n",
    "    #for line in md:\n",
    "        #do something for each line\n",
    "#continue with other code\n",
    "\n",
    "#CLOSE HAPPENS AUTOMATICALLY IN THE FILE"
   ]
  },
  {
   "cell_type": "code",
   "execution_count": 31,
   "metadata": {},
   "outputs": [
    {
     "name": "stdout",
     "output_type": "stream",
     "text": [
      "Name\tScore\tGrades\n",
      "Jamal\t98\tA+\n",
      "Eloise\t87\tB+\n",
      "Medeline\t99\tA+\n",
      "Wei\t94\tA\n",
      "\n"
     ]
    }
   ],
   "source": [
    "with open('grades.csv','r') as csv:\n",
    "    print(csv.read())"
   ]
  },
  {
   "cell_type": "code",
   "execution_count": 33,
   "metadata": {},
   "outputs": [
    {
     "name": "stdout",
     "output_type": "stream",
     "text": [
      "Name,Sex,Age,Team,Event,Medal\n",
      "A Dijiang,M,24,China,Basketball,NA\n",
      "A Lamusi,M,23,China,Judo,NA\n",
      "Gunnar Nielsen Aaby,M,24,Denmark,Football,NA\n",
      "Edgar Lindenau Aabye,M,34,Denmark/Sweden,Tug-Of-War,Gold\n",
      "Christine Jacoba Aaftink,F,21,Netherlands,Speed Skating,NA\n",
      "----------------------------------------------\n",
      "Name,Sex,Age,Team,Event,Medal\n",
      "\n",
      "\n",
      "['Name', 'Sex', 'Age', 'Team', 'Event', 'Medal']\n",
      "Edgar Lindenau Aabye: Tug-Of-War; Gold\n",
      "Arvo Ossian Aaltonen: Swimming; Bronze\n",
      "Arvo Ossian Aaltonen: Swimming; Bronze\n",
      "Juhamatti Tapio Aaltonen: Ice Hockey; Bronze\n",
      "Paavo Johannes Aaltonen: Gymnastics; Bronze\n",
      "Paavo Johannes Aaltonen: Gymnastics; Gold\n",
      "Paavo Johannes Aaltonen: Gymnastics; Gold\n",
      "Paavo Johannes Aaltonen: Gymnastics; Gold\n",
      "Paavo Johannes Aaltonen: Gymnastics; Bronze\n"
     ]
    }
   ],
   "source": [
    "filecon=open('olympics.txt','r')\n",
    "lines=filecon.readlines()\n",
    "for line in lines[:6]:\n",
    "    print(line.strip())\n",
    "print('----------------------------------------------')\n",
    "header=lines[0]\n",
    "field_names=header.strip().split(',')\n",
    "print(header)\n",
    "print()\n",
    "print(field_names)\n",
    "\n",
    "for row in lines[1:]:\n",
    "    vals=row.strip().split(',')\n",
    "    if vals[5]!='NA':\n",
    "        print(\"{}: {}; {}\".format(vals[0],vals[4],vals[5]))\n"
   ]
  },
  {
   "cell_type": "code",
   "execution_count": 34,
   "metadata": {},
   "outputs": [],
   "source": [
    "#writing a data to a csv file\n",
    "\n",
    "olympians = [(\"John Aalberg\", 31, \"Cross Country Skiing\"),\n",
    "             (\"Minna Maarit Aalto\", 30, \"Sailing\"),\n",
    "             (\"Win Valdemar Aaltonen\", 54, \"Art Competitions\"),\n",
    "             (\"Wakako Abe\", 18, \"Cycling\")]\n",
    "\n",
    "outfile = open(\"reduced_olympics.csv\", \"w\")\n",
    "# output the header row\n",
    "outfile.write('Name,Age,Sport')\n",
    "outfile.write('\\n')\n",
    "# output each of the rows:\n",
    "for olympian in olympians:\n",
    "    row_string = '{},{},{}'.format(olympian[0], olympian[1], olympian[2])\n",
    "    outfile.write(row_string)\n",
    "    outfile.write('\\n')\n",
    "outfile.close()\n"
   ]
  },
  {
   "cell_type": "code",
   "execution_count": null,
   "metadata": {},
   "outputs": [],
   "source": []
  },
  {
   "cell_type": "code",
   "execution_count": 39,
   "metadata": {},
   "outputs": [],
   "source": [
    "#using .join() to join to string\n",
    "\n",
    "olympians = [(\"John Aalberg\", 31, \"Cross Country Skiing\"),\n",
    "             (\"Minna Maarit Aalto\", 30, \"Sailing\"),\n",
    "             (\"Win Valdemar Aaltonen\", 54, \"Art Competitions\"),\n",
    "             (\"Wakako Abe\", 18, \"Cycling\")]\n",
    "\n",
    "outfile = open(\"reduced_olympics_join.csv\", \"w\")\n",
    "# output the header row\n",
    "outfile.write('Name,Age,Sport')\n",
    "outfile.write('\\n')\n",
    "# output each of the rows:\n",
    "for olympian in olympians:\n",
    "    #row_string=','.join(olympian) #if the list is all string then we join the tuple\n",
    "    row_string=','.join([olympian[0], str(olympian[1]), olympian[2]])\n",
    "    #row_string = '{},{},{}'.format(olympian[0], olympian[1], olympian[2])\n",
    "    outfile.write(row_string)\n",
    "    outfile.write('\\n')\n",
    "outfile.close()\n",
    "\n",
    "\n",
    "#.join() expects 2 values to join hence we pass a list of strings\n",
    "#.join() should have all arguments as strings"
   ]
  },
  {
   "cell_type": "code",
   "execution_count": 41,
   "metadata": {},
   "outputs": [],
   "source": [
    "#string concatenation\n",
    "\n",
    "olympians = [(\"John Aalberg\", 31, \"Cross Country Skiing\"),\n",
    "             (\"Minna Maarit Aalto\", 30, \"Sailing\"),\n",
    "             (\"Win Valdemar Aaltonen\", 54, \"Art Competitions\"),\n",
    "             (\"Wakako Abe\", 18, \"Cycling\")]\n",
    "\n",
    "outfile = open(\"reduced_olympics_concat.csv\", \"w\")\n",
    "# output the header row\n",
    "outfile.write('Name,Age,Sport')\n",
    "outfile.write('\\n')\n",
    "# output each of the rows:\n",
    "for olympian in olympians:\n",
    "    row_string=olympian[0]+','+str(olympian[1])+','+olympian[2]\n",
    "    outfile.write(row_string)\n",
    "    outfile.write('\\n')\n",
    "outfile.close()\n"
   ]
  },
  {
   "cell_type": "code",
   "execution_count": 42,
   "metadata": {},
   "outputs": [],
   "source": [
    "olympians = [(\"John Aalberg\", 31, \"Cross Country Skiing, 15KM\"),\n",
    "             (\"Minna Maarit Aalto\", 30, \"Sailing\"),\n",
    "             (\"Win Valdemar Aaltonen\", 54, \"Art Competitions\"),\n",
    "             (\"Wakako Abe\", 18, \"Cycling\")]\n",
    "\n",
    "outfile = open(\"reduced_olympics2.csv\", \"w\")\n",
    "# output the header row\n",
    "outfile.write('\"Name\",\"Age\",\"Sport\"')\n",
    "outfile.write('\\n')\n",
    "# output each of the rows:\n",
    "for olympian in olympians:\n",
    "    row_string = '\"{}\", \"{}\", \"{}\"'.format(olympian[0], olympian[1], olympian[2])\n",
    "    outfile.write(row_string)\n",
    "    outfile.write('\\n')\n",
    "outfile.close()\n"
   ]
  },
  {
   "cell_type": "code",
   "execution_count": null,
   "metadata": {},
   "outputs": [],
   "source": []
  }
 ],
 "metadata": {
  "kernelspec": {
   "display_name": "Python 3",
   "language": "python",
   "name": "python3"
  },
  "language_info": {
   "codemirror_mode": {
    "name": "ipython",
    "version": 3
   },
   "file_extension": ".py",
   "mimetype": "text/x-python",
   "name": "python",
   "nbconvert_exporter": "python",
   "pygments_lexer": "ipython3",
   "version": "3.7.3"
  }
 },
 "nbformat": 4,
 "nbformat_minor": 2
}
