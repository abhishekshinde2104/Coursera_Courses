{
 "cells": [
  {
   "cell_type": "code",
   "execution_count": 2,
   "metadata": {},
   "outputs": [
    {
     "name": "stdout",
     "output_type": "stream",
     "text": [
      "A <class 'str'>\n",
      "b <class 'str'>\n",
      "h <class 'str'>\n",
      "i <class 'str'>\n",
      "s <class 'str'>\n",
      "h <class 'str'>\n",
      "e <class 'str'>\n",
      "k <class 'str'>\n"
     ]
    }
   ],
   "source": [
    "for letter in 'Abhishek':\n",
    "    print(letter,type(letter))\n",
    "    "
   ]
  },
  {
   "cell_type": "code",
   "execution_count": 3,
   "metadata": {},
   "outputs": [],
   "source": [
    "def strip_punctuation(string):\n",
    "    \n",
    "    for char in string:\n",
    "        if char in punctuation_chars:\n",
    "            string=string.replace(char,\"\")\n",
    "\n",
    "    return string  "
   ]
  },
  {
   "cell_type": "code",
   "execution_count": 5,
   "metadata": {},
   "outputs": [],
   "source": [
    "def get_pos(sentence):\n",
    "    \n",
    "    count=0\n",
    "    \n",
    "    for string in sentence.split(\" \"):\n",
    "        if strip_punctuation(string).lower() in positive_words:\n",
    "            count+=1\n",
    "    \n",
    "    return count"
   ]
  },
  {
   "cell_type": "code",
   "execution_count": 6,
   "metadata": {},
   "outputs": [],
   "source": [
    "def get_neg(sentence):\n",
    "    \n",
    "    count=0\n",
    "    \n",
    "    for string in sentence.split(\" \"):\n",
    "        if strip_punctuation(string).lower() in negative_words:\n",
    "            count+=1\n",
    "    \n",
    "    return count"
   ]
  },
  {
   "cell_type": "code",
   "execution_count": 2,
   "metadata": {},
   "outputs": [],
   "source": [
    "\n",
    "projectTwitterDataFile = open(\"project_twitter_data.csv\",\"r\")\n",
    "resultingDataFile = open(\"resulting_data.csv\",\"w\")\n",
    "\n",
    "punctuation_chars = [\"'\", '\"', \",\", \".\", \"!\", \":\", \";\", '#', '@']\n",
    "# lists of words to use\n",
    "positive_words = []\n",
    "with open(\"positive_words.txt\") as pos_f:\n",
    "    for lin in pos_f:\n",
    "        if lin[0] != ';' and lin[0] != '\\n':\n",
    "            positive_words.append(lin.strip())\n",
    "            \n",
    "def get_pos(strSentences):\n",
    "    strSentences = strip_punctuation(strSentences)\n",
    "    listStrSentences= strSentences.split()\n",
    "    \n",
    "    count=0\n",
    "    for word in listStrSentences:\n",
    "        for positiveWord in positive_words:\n",
    "            if word == positiveWord:\n",
    "                count+=1\n",
    "    return count\n",
    "\n",
    "negative_words = []\n",
    "with open(\"negative_words.txt\") as pos_f:\n",
    "    for lin in pos_f:\n",
    "        if lin[0] != ';' and lin[0] != '\\n':\n",
    "            negative_words.append(lin.strip())\n",
    "\n",
    "            \n",
    "def get_neg(strSentences):\n",
    "    strSentences = strip_punctuation(strSentences)\n",
    "    listStrSentences = strSentences.split()\n",
    "    \n",
    "    count=0\n",
    "    for word in listStrSentences:\n",
    "        for negativeWord in negative_words:\n",
    "            if word == negativeWord:\n",
    "                count+=1\n",
    "    return count\n",
    "\n",
    "    \n",
    "def strip_punctuation(strWord):\n",
    "    for charPunct in punctuation_chars:\n",
    "        strWord = strWord.replace(charPunct, \"\")\n",
    "    return strWord\n",
    "\n",
    "\n",
    "def writeInDataFile(resultingDataFile):\n",
    "    resultingDataFile.write(\"Number of Retweets, Number of Replies, Positive Score, Negative Score, Net Score\")\n",
    "    resultingDataFile.write(\"\\n\")\n",
    "\n",
    "    linesPTDF =  projectTwitterDataFile.readlines()\n",
    "    headerDontUsed= linesPTDF.pop(0)\n",
    "    for linesTD in linesPTDF:\n",
    "        listTD = linesTD.strip().split(',')\n",
    "        resultingDataFile.write(\"{}, {}, {}, {}, {}\".format(listTD[1], listTD[2], get_pos(listTD[0]), get_neg(listTD[0]), (get_pos(listTD[0])-get_neg(listTD[0]))))    \n",
    "        resultingDataFile.write(\"\\n\")\n",
    "\n",
    "        \n",
    "\n",
    "writeInDataFile(resultingDataFile)\n",
    "projectTwitterDataFile.close()\n",
    "resultingDataFile.close()\n",
    "\n"
   ]
  },
  {
   "cell_type": "code",
   "execution_count": 3,
   "metadata": {},
   "outputs": [
    {
     "name": "stdout",
     "output_type": "stream",
     "text": [
      "['tweet_text,retweet_count,reply_count\\n', '@twitteruser: On now - @Fusion scores first points #FirstFinals @overwatchleague @umich @umsi Michigan Athletics made out of emojis. #GoBlue,3,0\\n', 'BUNCH of things about crisis responsâ€¦ available July 8thâ€¦ scholarship focuses on improving meâ€¦ in North America! A sâ€¦ and frigid temperatures,1,0\\n', 'FREE ice cream with these local area deals: chance to pitch yourself to hundreds of employers? Msi student Name Here is spending her summer,1,2\\n', 'AWAY from the Internet of Things attacksâ€¦ right and the left? Seeâ€¦ use DIY language to discuss other projects not traditionally viewed as masculine,3,1\\n', 'IN City Name!â€¦ from @twitteruser has some amazing datasets and tools for collective action. - UMSI aâ€¦ grateful forâ€¦ equipping elderly African-American,6,0\\n', 'ENTREPRENEURSHIP in #City.â€¦ a great social media job opportunity for our UMSI alumni looking to work at City Name Public Schools! #goblue,9,5\\n', \"BRINGING #datascience to community researchers with a team of researchers have been helping people in 'lean' economies learn entrepreneurial,19,0\\n\", 'WHY not pay you?â€¦ endure crushing pressures and frigid temperatures but the most difficult part ofâ€¦ faculty and staff across the city,0,0\\n', 'A bunch of things about crisis responsâ€¦ â€“ but the implications are much bigger tâ€¦ for some but a financial burden for others. @umichdpss and,0,0\\n', '@THEEMMYS nomination for Best Lead Actor in a library role focused on Digital Services and Projects? As a bonus you get to work at tâ€¦ by @cab938,82,2\\n', \"THIS headline has been inescapable this summer. Now the infectious chart-topper from 'Scorpion' gets a viâ€¦ Seventh Victim 'Scorpion' gets a,0,0\\n\", \"OF wine with a shoe? Yes but it ain't pretty. Its First Amendment rights. That it claims will forâ€¦ and non-binary musicians shaping the sound,0,0\\n\", \"HAVE detained six people in history to ride to orbit in private space taxis next year if all to faithful them is that they simply can't afford,47,0\\n\", 'PET Name. She is 1 year old Shiba Inu. When her caregiver is not at home Name likes to haveâ€¦ I tell them about my website and ask if my,2,1\\n', 'YOUâ€™RE welcome! He was a mix of many breeds. He is a 2 year old Yellow Lab. When he was a mix of breeds but has the bark of a road!!,0,2\\n', 'Name. He is wild and playful. He likes to chase and play with his stuffed elephant! the Dir. Of Human Resources @twitteruser. He is a,0,0\\n', 'BORDER Terrier puppy. Name is loving and very protective of the people she loves. Name2 is a 3 year old Maltipoo. Name3 is an 8 year old Corgi.,4,6\\n', \"REASON they did not rain but they will reign beautifully couldn't asked for a crime 80 years in the Spring Name's Last Love absolutely love,19,0\\n\", \"HOME surrounded by snow in my Garden. But City Name people musn't: such a good book: RT @twitteruser The Literature of Conflicted Lands after a,0,0\\n\"]\n",
      "['tweet_text', 'retweet_count', 'reply_count']\n"
     ]
    }
   ],
   "source": [
    "punctuation_chars = [\"'\", '\"', \",\", \".\", \"!\", \":\", \";\", '#', '@']\n",
    "# lists of words to use\n",
    "positive_words = []\n",
    "with open(\"positive_words.txt\") as pos_f:\n",
    "    for lin in pos_f:\n",
    "        if lin[0] != ';' and lin[0] != '\\n':\n",
    "            positive_words.append(lin.strip())\n",
    "\n",
    "\n",
    "negative_words = []\n",
    "with open(\"negative_words.txt\") as pos_f:\n",
    "    for lin in pos_f:\n",
    "        if lin[0] != ';' and lin[0] != '\\n':\n",
    "            negative_words.append(lin.strip())\n",
    "def get_pos(x):\n",
    "    c=0\n",
    "    words=x.split()\n",
    "    for word in words:\n",
    "        word= strip_punctuation(word)\n",
    "        if word.lower() in positive_words:\n",
    "            c=c+1\n",
    "    return c\n",
    "\n",
    "def get_neg(x):\n",
    "    c=0\n",
    "    words=x.split()\n",
    "    for word in words:\n",
    "        word= strip_punctuation(word)\n",
    "        if word.lower() in negative_words:\n",
    "            c=c+1\n",
    "    return c\n",
    "\n",
    "def strip_punctuation(s):\n",
    "    for x in s:\n",
    "        if x in punctuation_chars:\n",
    "            s = s.replace(x, \"\")\n",
    "    return s\n",
    "\n",
    "outfile = open(\"resulting_data_1.csv\",\"w\")\n",
    "outfile.write(\"Number of Retweets, Number of Replies, Positive Score, Negative Score, Net Score\")\n",
    "outfile.write('\\n')\n",
    "\n",
    "\n",
    "fileconnection = open(\"project_twitter_data.csv\", 'r')\n",
    "\n",
    "lines = fileconnection.readlines()\n",
    "print(lines)\n",
    "header = lines[0]\n",
    "field_names = header.strip().split(',')\n",
    "print(field_names)\n",
    "for row in lines[1:]:\n",
    "    \n",
    "    vals = row.strip().split(',')\n",
    "    row_string = '{},{},{},{},{}'.format(vals[1],vals[2],get_pos(vals[0]),get_neg(vals[0]),get_pos(vals[0])-get_neg(vals[0]))\n",
    "    outfile.write(row_string)\n",
    "    outfile.write('\\n')\n",
    "\n",
    "\n",
    "outfile.close()"
   ]
  },
  {
   "cell_type": "code",
   "execution_count": null,
   "metadata": {},
   "outputs": [],
   "source": []
  }
 ],
 "metadata": {
  "kernelspec": {
   "display_name": "Python 3",
   "language": "python",
   "name": "python3"
  },
  "language_info": {
   "codemirror_mode": {
    "name": "ipython",
    "version": 3
   },
   "file_extension": ".py",
   "mimetype": "text/x-python",
   "name": "python",
   "nbconvert_exporter": "python",
   "pygments_lexer": "ipython3",
   "version": "3.7.3"
  }
 },
 "nbformat": 4,
 "nbformat_minor": 2
}
