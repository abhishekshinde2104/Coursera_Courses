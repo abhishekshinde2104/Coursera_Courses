{
 "cells": [
  {
   "cell_type": "code",
   "execution_count": 1,
   "metadata": {},
   "outputs": [
    {
     "name": "stdout",
     "output_type": "stream",
     "text": [
      "[-2, 1, 3, 4, 7]\n",
      "['Apple', 'Blueberry', 'Cherry']\n"
     ]
    }
   ],
   "source": [
    "L1 = [1, 7, 4, -2, 3]\n",
    "L2 = [\"Cherry\", \"Apple\", \"Blueberry\"]\n",
    "\n",
    "L1.sort()\n",
    "print(L1)\n",
    "L2.sort()#operates on a list\n",
    "print(L2)\n",
    "#.sort() is only on lists"
   ]
  },
  {
   "cell_type": "code",
   "execution_count": 2,
   "metadata": {},
   "outputs": [
    {
     "name": "stdout",
     "output_type": "stream",
     "text": [
      "['Apple', 'Blueberry', 'Cherry']\n",
      "['Apple', 'Blueberry', 'Cherry']\n",
      "['Cherry', 'Apple', 'Blueberry']\n",
      "----\n",
      "['Apple', 'Blueberry', 'Cherry']\n",
      "None\n"
     ]
    }
   ],
   "source": [
    "L2 = [\"Cherry\", \"Apple\", \"Blueberry\"]\n",
    "\n",
    "L3 = sorted(L2) #we get a value back\n",
    "print(L3)\n",
    "print(sorted(L2))\n",
    "print(L2) # unchanged ------as .sorted() doesnt change original list\n",
    "\n",
    "print(\"----\")\n",
    "\n",
    "L2.sort() #list itself is sorted\n",
    "print(L2)\n",
    "print(L2.sort())  #return value is None\n",
    "\n",
    "#sorted can be applied to  any sequence"
   ]
  },
  {
   "cell_type": "code",
   "execution_count": 3,
   "metadata": {},
   "outputs": [
    {
     "name": "stdout",
     "output_type": "stream",
     "text": [
      "['Cherry', 'Blueberry', 'Apple']\n"
     ]
    }
   ],
   "source": [
    "L2 = [\"Cherry\", \"Apple\", \"Blueberry\"]\n",
    "print(sorted(L2, reverse=True))\n"
   ]
  },
  {
   "cell_type": "code",
   "execution_count": 4,
   "metadata": {},
   "outputs": [
    {
     "name": "stdout",
     "output_type": "stream",
     "text": [
      "3\n",
      "119\n",
      "1\n",
      "7\n",
      "4\n",
      "2\n",
      "3\n"
     ]
    }
   ],
   "source": [
    "L1 = [1, 7, 4, -2, 3]\n",
    "\n",
    "def absolute(x):\n",
    "    if x >= 0:\n",
    "        return x\n",
    "    else:\n",
    "        return -x\n",
    "\n",
    "print(absolute(3))\n",
    "print(absolute(-119))\n",
    "\n",
    "for y in L1:\n",
    "    print(absolute(y))\n"
   ]
  },
  {
   "cell_type": "code",
   "execution_count": 5,
   "metadata": {},
   "outputs": [
    {
     "name": "stdout",
     "output_type": "stream",
     "text": [
      "[1, -2, 3, 4, 7]\n",
      "[7, 4, 3, -2, 1]\n"
     ]
    }
   ],
   "source": [
    "L1 = [1, 7, 4, -2, 3]\n",
    "\n",
    "def absolute(x):\n",
    "    if x >= 0:\n",
    "        return x\n",
    "    else:\n",
    "        return -x\n",
    "\n",
    "L2 = sorted(L1, key=absolute)#we use key to give it a function \n",
    "print(L2)\n",
    "\n",
    "#or in reverse order\n",
    "print(sorted(L1, reverse=True, key=absolute))\n"
   ]
  },
  {
   "cell_type": "code",
   "execution_count": 6,
   "metadata": {},
   "outputs": [
    {
     "name": "stdout",
     "output_type": "stream",
     "text": [
      "About to call sorted\n",
      "--- figuring out what to write on the post-it note for 1\n",
      "--- figuring out what to write on the post-it note for 7\n",
      "--- figuring out what to write on the post-it note for 4\n",
      "--- figuring out what to write on the post-it note for -2\n",
      "--- figuring out what to write on the post-it note for 3\n",
      "Finished execution of sorted\n",
      "[1, -2, 3, 4, 7]\n"
     ]
    }
   ],
   "source": [
    "L1 = [1, 7, 4, -2, 3]\n",
    "\n",
    "def absolute(x):\n",
    "    print(\"--- figuring out what to write on the post-it note for \" + str(x))\n",
    "    if x >= 0:\n",
    "        return x\n",
    "    else:\n",
    "        return -x\n",
    "\n",
    "print(\"About to call sorted\")\n",
    "L2 = sorted(L1, key=absolute)\n",
    "print(\"Finished execution of sorted\")\n",
    "print(L2)\n"
   ]
  },
  {
   "cell_type": "code",
   "execution_count": 7,
   "metadata": {},
   "outputs": [
    {
     "name": "stdout",
     "output_type": "stream",
     "text": [
      "['A', 'e', 'l', 'p', 'p']\n"
     ]
    }
   ],
   "source": [
    "print(sorted(\"Apple\"))"
   ]
  },
  {
   "cell_type": "code",
   "execution_count": 8,
   "metadata": {},
   "outputs": [
    {
     "name": "stdout",
     "output_type": "stream",
     "text": [
      "E appears 2 times\n",
      "F appears 1 times\n",
      "B appears 2 times\n",
      "A appears 2 times\n",
      "D appears 4 times\n",
      "I appears 2 times\n",
      "C appears 1 times\n"
     ]
    }
   ],
   "source": [
    "L = ['E', 'F', 'B', 'A', 'D', 'I', 'I', 'C', 'B', 'A', 'D', 'D', 'E', 'D']\n",
    "\n",
    "d = {}\n",
    "for x in L:\n",
    "    if x in d:\n",
    "        d[x] = d[x] + 1\n",
    "    else:\n",
    "        d[x] = 1\n",
    "for x in d.keys():\n",
    "    print(\"{} appears {} times\".format(x, d[x]))\n"
   ]
  },
  {
   "cell_type": "code",
   "execution_count": 19,
   "metadata": {},
   "outputs": [
    {
     "name": "stdout",
     "output_type": "stream",
     "text": [
      "['A', 'B', 'C', 'D', 'E', 'F', 'I']\n",
      "A appears 2 times\n",
      "B appears 2 times\n",
      "C appears 1 times\n",
      "D appears 4 times\n",
      "E appears 2 times\n",
      "F appears 1 times\n",
      "I appears 2 times\n"
     ]
    }
   ],
   "source": [
    "L = ['E', 'F', 'B', 'A', 'D', 'I', 'I', 'C', 'B', 'A', 'D', 'D', 'E', 'D']\n",
    "\n",
    "d = {}\n",
    "for x in L:\n",
    "    if x in d:\n",
    "        d[x] = d[x] + 1\n",
    "    else:\n",
    "        d[x] = 1\n",
    "y = sorted(d.keys())  #WE SORT DICTIONARY WITH THERE KEYS\n",
    "print(y)\n",
    "for k in y:\n",
    "    print(\"{} appears {} times\".format(k, d[k]))\n"
   ]
  },
  {
   "cell_type": "code",
   "execution_count": 10,
   "metadata": {},
   "outputs": [
    {
     "name": "stdout",
     "output_type": "stream",
     "text": [
      "D appears 4 times\n",
      "E appears 2 times\n",
      "B appears 2 times\n",
      "A appears 2 times\n",
      "I appears 2 times\n",
      "F appears 1 times\n",
      "C appears 1 times\n"
     ]
    }
   ],
   "source": [
    "L = ['E', 'F', 'B', 'A', 'D', 'I', 'I', 'C', 'B', 'A', 'D', 'D', 'E', 'D']\n",
    "\n",
    "d = {}\n",
    "for x in L:\n",
    "    if x in d:\n",
    "        d[x] = d[x] + 1\n",
    "    else:\n",
    "        d[x] = 1\n",
    "\n",
    "y = sorted(d.keys(), key=lambda k: d[k], reverse=True) #Descending order of the values\n",
    "for k in y:\n",
    "    print(\"{} appears {} times\".format(k, d[k]))\n"
   ]
  },
  {
   "cell_type": "code",
   "execution_count": 20,
   "metadata": {},
   "outputs": [
    {
     "name": "stdout",
     "output_type": "stream",
     "text": [
      "I appears 2 times\n",
      "F appears 1 times\n",
      "E appears 2 times\n",
      "D appears 4 times\n",
      "C appears 1 times\n",
      "B appears 2 times\n",
      "A appears 2 times\n"
     ]
    }
   ],
   "source": [
    "L = ['E', 'F', 'B', 'A', 'D', 'I', 'I', 'C', 'B', 'A', 'D', 'D', 'E', 'D']\n",
    "\n",
    "d = {}\n",
    "for x in L:\n",
    "    if x in d:\n",
    "        d[x] = d[x] + 1\n",
    "    else:\n",
    "        d[x] = 1\n",
    "\n",
    "y = sorted(d.keys(), reverse=True)\n",
    "for k in y:\n",
    "    print(\"{} appears {} times\".format(k, d[k]))\n"
   ]
  },
  {
   "cell_type": "code",
   "execution_count": 11,
   "metadata": {},
   "outputs": [
    {
     "name": "stdout",
     "output_type": "stream",
     "text": [
      "D appears 4 times\n",
      "E appears 2 times\n",
      "B appears 2 times\n",
      "A appears 2 times\n",
      "I appears 2 times\n",
      "F appears 1 times\n",
      "C appears 1 times\n"
     ]
    }
   ],
   "source": [
    "L = ['E', 'F', 'B', 'A', 'D', 'I', 'I', 'C', 'B', 'A', 'D', 'D', 'E', 'D']\n",
    "\n",
    "d = {}\n",
    "for x in L:\n",
    "    if x in d:\n",
    "        d[x] = d[x] + 1\n",
    "    else:\n",
    "        d[x] = 1\n",
    "\n",
    "def g(k):\n",
    "    return d[k]\n",
    "\n",
    "y =(sorted(d.keys(), key=g, reverse=True))\n",
    "\n",
    "# now loop through the keys\n",
    "for k in y:\n",
    "    print(\"{} appears {} times\".format(k, d[k]))\n"
   ]
  },
  {
   "cell_type": "code",
   "execution_count": 12,
   "metadata": {},
   "outputs": [
    {
     "name": "stdout",
     "output_type": "stream",
     "text": [
      "D appears 4 times\n",
      "E appears 2 times\n",
      "B appears 2 times\n",
      "A appears 2 times\n",
      "I appears 2 times\n",
      "F appears 1 times\n",
      "C appears 1 times\n"
     ]
    }
   ],
   "source": [
    "L = ['E', 'F', 'B', 'A', 'D', 'I', 'I', 'C', 'B', 'A', 'D', 'D', 'E', 'D']\n",
    "\n",
    "d = {}\n",
    "for x in L:\n",
    "    if x in d:\n",
    "        d[x] = d[x] + 1\n",
    "    else:\n",
    "        d[x] = 1\n",
    "\n",
    "# now loop through the sorted keys\n",
    "for k in sorted(d, key=lambda k: d[k], reverse=True):\n",
    "      print(\"{} appears {} times\".format(k, d[k]))\n"
   ]
  },
  {
   "cell_type": "code",
   "execution_count": 13,
   "metadata": {},
   "outputs": [
    {
     "name": "stdout",
     "output_type": "stream",
     "text": [
      "('A', 2, 4)\n",
      "('A', 3, 2)\n",
      "('B', 3, 1)\n",
      "('C', 1, 2)\n",
      "('C', 1, 4)\n"
     ]
    }
   ],
   "source": [
    "tups = [('A', 3, 2),\n",
    "        ('C', 1, 4),\n",
    "        ('B', 3, 1),\n",
    "        ('A', 2, 4),\n",
    "        ('C', 1, 2)]\n",
    "for tup in sorted(tups):\n",
    "    print(tup)\n"
   ]
  },
  {
   "cell_type": "code",
   "execution_count": 14,
   "metadata": {},
   "outputs": [
    {
     "name": "stdout",
     "output_type": "stream",
     "text": [
      "kiwi\n",
      "pear\n",
      "apple\n",
      "mango\n",
      "peach\n",
      "papaya\n",
      "blueberry\n"
     ]
    }
   ],
   "source": [
    "fruits = ['peach', 'kiwi', 'apple', 'blueberry', 'papaya', 'mango', 'pear']\n",
    "new_order = sorted(fruits, key=lambda fruit_name: (len(fruit_name), fruit_name))\n",
    "for fruit in new_order:\n",
    "    print(fruit)\n"
   ]
  },
  {
   "cell_type": "code",
   "execution_count": 15,
   "metadata": {},
   "outputs": [
    {
     "name": "stdout",
     "output_type": "stream",
     "text": [
      "blueberry\n",
      "papaya\n",
      "peach\n",
      "mango\n",
      "apple\n",
      "pear\n",
      "kiwi\n"
     ]
    }
   ],
   "source": [
    "fruits = ['peach', 'kiwi', 'apple', 'blueberry', 'papaya', 'mango', 'pear']\n",
    "new_order = sorted(fruits, key=lambda fruit_name: (len(fruit_name), fruit_name), reverse=True)\n",
    "for fruit in new_order:\n",
    "    print(fruit)\n"
   ]
  },
  {
   "cell_type": "code",
   "execution_count": 16,
   "metadata": {},
   "outputs": [
    {
     "name": "stdout",
     "output_type": "stream",
     "text": [
      "blueberry\n",
      "papaya\n",
      "apple\n",
      "mango\n",
      "peach\n",
      "kiwi\n",
      "pear\n"
     ]
    }
   ],
   "source": [
    "fruits = ['peach', 'kiwi', 'apple', 'blueberry', 'papaya', 'mango', 'pear']\n",
    "new_order = sorted(fruits, key=lambda fruit_name: (-len(fruit_name), fruit_name))\n",
    "for fruit in new_order:\n",
    "    print(fruit)\n"
   ]
  },
  {
   "cell_type": "code",
   "execution_count": 17,
   "metadata": {},
   "outputs": [
    {
     "name": "stdout",
     "output_type": "stream",
     "text": [
      "['Washington', 'Minnesota', 'Michigan']\n"
     ]
    }
   ],
   "source": [
    "states = {\"Minnesota\": [\"St. Paul\", \"Minneapolis\", \"Saint Cloud\", \"Stillwater\"],\n",
    "          \"Michigan\": [\"Ann Arbor\", \"Traverse City\", \"Lansing\", \"Kalamazoo\"],\n",
    "          \"Washington\": [\"Seattle\", \"Tacoma\", \"Olympia\", \"Vancouver\"]}\n",
    "\n",
    "print(sorted(states, key=lambda state: len(states[state][0])))\n"
   ]
  },
  {
   "cell_type": "code",
   "execution_count": 18,
   "metadata": {},
   "outputs": [
    {
     "name": "stdout",
     "output_type": "stream",
     "text": [
      "['Michigan', 'Washington', 'Minnesota']\n"
     ]
    }
   ],
   "source": [
    "def s_cities_count(city_list):\n",
    "    ct = 0\n",
    "    for city in city_list:\n",
    "        if city[0] == \"S\":\n",
    "            ct += 1\n",
    "    return ct\n",
    "\n",
    "states = {\"Minnesota\": [\"St. Paul\", \"Minneapolis\", \"Saint Cloud\", \"Stillwater\"],\n",
    "          \"Michigan\": [\"Ann Arbor\", \"Traverse City\", \"Lansing\", \"Kalamazoo\"],\n",
    "          \"Washington\": [\"Seattle\", \"Tacoma\", \"Olympia\", \"Vancouver\"]}\n",
    "\n",
    "print(sorted(states, key=lambda state: s_cities_count(states[state])))\n"
   ]
  },
  {
   "cell_type": "code",
   "execution_count": 21,
   "metadata": {},
   "outputs": [
    {
     "name": "stdout",
     "output_type": "stream",
     "text": [
      "['China', 'Germany', 'Japan', 'Russia', 'South Korea', 'United States']\n"
     ]
    }
   ],
   "source": [
    "\n",
    "medals = {'Japan':41, 'Russia':56, 'South Korea':21, 'United States':121, 'Germany':42, 'China':70}\n",
    "\n",
    "alphabetical=sorted(medals)\n",
    "print(alphabetical)"
   ]
  },
  {
   "cell_type": "code",
   "execution_count": 28,
   "metadata": {},
   "outputs": [],
   "source": [
    "\n",
    "medals = {'Japan':41, 'Russia':56, 'South Korea':21, 'United States':121, 'Germany':42, 'China':70}\n",
    "\n",
    "top_three=sorted(medals,key=lambda x :medals[x],reverse=True)[0:3]"
   ]
  },
  {
   "cell_type": "code",
   "execution_count": 29,
   "metadata": {},
   "outputs": [
    {
     "name": "stdout",
     "output_type": "stream",
     "text": [
      "['United States', 'China', 'Russia']\n"
     ]
    }
   ],
   "source": [
    "print(top_three)"
   ]
  },
  {
   "cell_type": "code",
   "execution_count": 30,
   "metadata": {},
   "outputs": [],
   "source": [
    "\n",
    "groceries = {'apples': 5, 'pasta': 3, 'carrots': 12, 'orange juice': 2, 'bananas': 8, 'popcorn': 1, 'salsa': 3, 'cereal': 4, 'coffee': 5, 'granola bars': 15, 'onions': 7, 'rice': 1, 'peanut butter': 2, 'spinach': 9}\n",
    "\n",
    "most_needed=sorted(groceries,key=lambda x : groceries[x],reverse=True)"
   ]
  },
  {
   "cell_type": "code",
   "execution_count": 31,
   "metadata": {},
   "outputs": [
    {
     "name": "stdout",
     "output_type": "stream",
     "text": [
      "['granola bars', 'carrots', 'spinach', 'bananas', 'onions', 'apples', 'coffee', 'cereal', 'pasta', 'salsa', 'orange juice', 'peanut butter', 'popcorn', 'rice']\n"
     ]
    }
   ],
   "source": [
    "print(most_needed)"
   ]
  },
  {
   "cell_type": "code",
   "execution_count": 39,
   "metadata": {},
   "outputs": [
    {
     "name": "stdout",
     "output_type": "stream",
     "text": [
      "[3005, 2342, 9000, 2, 2345, 9329]\n",
      "[17570002, 17572342, 17572345, 17573005, 17579000, 17579329]\n"
     ]
    }
   ],
   "source": [
    "\n",
    "def last_four(x):\n",
    "    x=str(x)\n",
    "    x=x[-4:]\n",
    "    x=int(x)\n",
    "    new_ids.append(x)\n",
    "    return x\n",
    "\n",
    "new_ids=[]\n",
    "ids = [17573005, 17572342, 17579000, 17570002, 17572345, 17579329]\n",
    "for x in ids:\n",
    "    last_four(x)\n",
    "    \n",
    "print(new_ids)\n",
    "sorted_ids=sorted(ids,key=last_four)\n",
    "print(sorted_ids)\n"
   ]
  },
  {
   "cell_type": "code",
   "execution_count": 43,
   "metadata": {},
   "outputs": [],
   "source": [
    "\n",
    "ids = [17573005, 17572342, 17579000, 17570002, 17572345, 17579329]\n",
    "\n",
    "sorted_id=sorted(ids,key=lambda x:str(x)[-4:])"
   ]
  },
  {
   "cell_type": "code",
   "execution_count": 44,
   "metadata": {},
   "outputs": [
    {
     "name": "stdout",
     "output_type": "stream",
     "text": [
      "[17570002, 17572342, 17572345, 17573005, 17579000, 17579329]\n"
     ]
    }
   ],
   "source": [
    "print(sorted_id)"
   ]
  },
  {
   "cell_type": "code",
   "execution_count": 52,
   "metadata": {},
   "outputs": [],
   "source": [
    "\n",
    "ex_lst = ['hi', 'how are you', 'bye', 'apple', 'zebra', 'dance']\n",
    "\n",
    "lambda_sort=sorted(ex_lst,key=lambda x : x[1])"
   ]
  },
  {
   "cell_type": "code",
   "execution_count": 53,
   "metadata": {},
   "outputs": [
    {
     "name": "stdout",
     "output_type": "stream",
     "text": [
      "['dance', 'zebra', 'hi', 'how are you', 'apple', 'bye']\n"
     ]
    }
   ],
   "source": [
    "print(lambda_sort)"
   ]
  },
  {
   "cell_type": "code",
   "execution_count": null,
   "metadata": {},
   "outputs": [],
   "source": []
  }
 ],
 "metadata": {
  "kernelspec": {
   "display_name": "Python 3",
   "language": "python",
   "name": "python3"
  },
  "language_info": {
   "codemirror_mode": {
    "name": "ipython",
    "version": 3
   },
   "file_extension": ".py",
   "mimetype": "text/x-python",
   "name": "python",
   "nbconvert_exporter": "python",
   "pygments_lexer": "ipython3",
   "version": "3.7.3"
  }
 },
 "nbformat": 4,
 "nbformat_minor": 2
}
