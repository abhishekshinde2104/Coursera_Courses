{
 "cells": [
  {
   "cell_type": "code",
   "execution_count": 1,
   "metadata": {},
   "outputs": [],
   "source": [
    "#ACCUMULATING PATTERN WITH CONDITIONALS AND ACCUMULATING A MAXIMUM VALUE"
   ]
  },
  {
   "cell_type": "code",
   "execution_count": 2,
   "metadata": {},
   "outputs": [
    {
     "name": "stdout",
     "output_type": "stream",
     "text": [
      "26\n"
     ]
    }
   ],
   "source": [
    "phrase=\"What a wonderful day to program\"\n",
    "tot=0\n",
    "for char in phrase:\n",
    "    if char!=\" \":\n",
    "        tot+=1\n",
    "print(tot)"
   ]
  },
  {
   "cell_type": "code",
   "execution_count": 3,
   "metadata": {},
   "outputs": [
    {
     "name": "stdout",
     "output_type": "stream",
     "text": [
      "29\n"
     ]
    }
   ],
   "source": [
    "nums=[9,3,8,11,5,29,2]\n",
    "best_num=nums[0]\n",
    "for n in nums:\n",
    "    if n>best_num:\n",
    "        best_num=n\n",
    "print(best_num)"
   ]
  },
  {
   "cell_type": "code",
   "execution_count": 5,
   "metadata": {},
   "outputs": [
    {
     "name": "stdout",
     "output_type": "stream",
     "text": [
      "5\n"
     ]
    }
   ],
   "source": [
    "rainfall_mi = \"1.65, 1.46, 2.05, 3.03, 3.35, 3.46, 2.83, 3.23, 3.5, 2.52, 2.8, 1.85\"\n",
    "\n",
    "num_rainy_months=0\n",
    "\n",
    "split_months=rainfall_mi.split(',')\n",
    "#print(split_months)\n",
    "for rainfall in split_months:\n",
    "    if float(rainfall) > 3.0:\n",
    "        num_rainy_months+=1\n",
    "print(num_rainy_months)"
   ]
  },
  {
   "cell_type": "code",
   "execution_count": 6,
   "metadata": {},
   "outputs": [
    {
     "name": "stdout",
     "output_type": "stream",
     "text": [
      "2\n"
     ]
    }
   ],
   "source": [
    "sentence = \"students flock to the arb for a variety of outdoor activities such as jogging and picnicking\"\n",
    "\n",
    "same_letter_count=0\n",
    "split_words=sentence.split()\n",
    "\n",
    "for word in split_words:\n",
    "    if word[0] == word[-1]:\n",
    "        same_letter_count+=1\n",
    "print(same_letter_count)\n"
   ]
  },
  {
   "cell_type": "code",
   "execution_count": 7,
   "metadata": {},
   "outputs": [
    {
     "name": "stdout",
     "output_type": "stream",
     "text": [
      "4\n"
     ]
    }
   ],
   "source": [
    "items = [\"whirring\", \"wow!\", \"calendar\", \"wry\", \"glass\", \"\", \"llama\",\"tumultuous\",\"owing\"]\n",
    "acc_num=0\n",
    "for word in items:\n",
    "    if ('w' in word):\n",
    "        acc_num+=1\n",
    "print(acc_num)"
   ]
  },
  {
   "cell_type": "code",
   "execution_count": 10,
   "metadata": {},
   "outputs": [
    {
     "name": "stdout",
     "output_type": "stream",
     "text": [
      "14\n"
     ]
    }
   ],
   "source": [
    "sentence = \"python is a high level general purpose programming language that can be applied to many different classes of problems.\"\n",
    "split_sentence=sentence.split()\n",
    "#print(split_sentence)\n",
    "#len(split_sentence)\n",
    "num_a_or_e=0\n",
    "for word in split_sentence:\n",
    "    if 'a' in word or 'e' in word:\n",
    "        num_a_or_e+=1\n",
    "    elif 'a' in word and 'e' in word:\n",
    "        num_a_or_e+=1\n",
    "print(num_a_or_e)"
   ]
  },
  {
   "cell_type": "code",
   "execution_count": 55,
   "metadata": {},
   "outputs": [
    {
     "name": "stdout",
     "output_type": "stream",
     "text": [
      "32\n"
     ]
    }
   ],
   "source": [
    "s = \"singing in the rain and playing in the rain are two entirely different situations but both can be fun\"\n",
    "vowels = ['a','e','i','o','u']\n",
    "\n",
    "num_vowels=0\n",
    "words=s.split()\n",
    "#print(words)\n",
    "\n",
    "#letters=words[0].split()\n",
    "#print(letters)\n",
    "#for letter in letters:\n",
    " #   print(letter.split())\n",
    "    \n",
    "for word in words:\n",
    "    for letter in vowels:\n",
    "        if letter in word:\n",
    "            #print(word)\n",
    "            num_vowels+=word.count(letter)\n",
    "print(num_vowels)\n",
    "\n",
    "#for word in words:\n",
    " #   print(word)\n"
   ]
  },
  {
   "cell_type": "code",
   "execution_count": null,
   "metadata": {},
   "outputs": [],
   "source": []
  }
 ],
 "metadata": {
  "kernelspec": {
   "display_name": "Python 3",
   "language": "python",
   "name": "python3"
  },
  "language_info": {
   "codemirror_mode": {
    "name": "ipython",
    "version": 3
   },
   "file_extension": ".py",
   "mimetype": "text/x-python",
   "name": "python",
   "nbconvert_exporter": "python",
   "pygments_lexer": "ipython3",
   "version": "3.7.3"
  }
 },
 "nbformat": 4,
 "nbformat_minor": 2
}
