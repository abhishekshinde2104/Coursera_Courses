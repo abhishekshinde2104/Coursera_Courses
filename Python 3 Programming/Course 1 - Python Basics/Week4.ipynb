{
 "cells": [
  {
   "cell_type": "code",
   "execution_count": 2,
   "metadata": {},
   "outputs": [
    {
     "name": "stdout",
     "output_type": "stream",
     "text": [
      "['banana', 'apple', 'cherry']\n",
      "['pear', 'apple', 'orange']\n"
     ]
    }
   ],
   "source": [
    "#MUTABILITY\n",
    "fruit=[\"banana\",\"apple\",'cherry']\n",
    "print(fruit)\n",
    "fruit[0]='pear'\n",
    "fruit[-1]='orange'\n",
    "print(fruit)"
   ]
  },
  {
   "cell_type": "code",
   "execution_count": 3,
   "metadata": {},
   "outputs": [
    {
     "name": "stdout",
     "output_type": "stream",
     "text": [
      "['a', 'x', 'y', 'd', 'e', 'f']\n"
     ]
    }
   ],
   "source": [
    "alist=['a','b','c','d','e','f']\n",
    "alist[1:3]=['x','y']\n",
    "print(alist)"
   ]
  },
  {
   "cell_type": "code",
   "execution_count": 4,
   "metadata": {},
   "outputs": [
    {
     "name": "stdout",
     "output_type": "stream",
     "text": [
      "['a', 'd', 'e', 'f']\n"
     ]
    }
   ],
   "source": [
    "alist[1:3]=[]\n",
    "print(alist)"
   ]
  },
  {
   "cell_type": "code",
   "execution_count": 5,
   "metadata": {},
   "outputs": [
    {
     "ename": "TypeError",
     "evalue": "'str' object does not support item assignment",
     "output_type": "error",
     "traceback": [
      "\u001b[1;31m---------------------------------------------------------------------------\u001b[0m",
      "\u001b[1;31mTypeError\u001b[0m                                 Traceback (most recent call last)",
      "\u001b[1;32m<ipython-input-5-84f662b39b6e>\u001b[0m in \u001b[0;36m<module>\u001b[1;34m\u001b[0m\n\u001b[0;32m      1\u001b[0m \u001b[0mgreeting\u001b[0m\u001b[1;33m=\u001b[0m\u001b[1;34m'Hello World'\u001b[0m\u001b[1;33m\u001b[0m\u001b[1;33m\u001b[0m\u001b[0m\n\u001b[1;32m----> 2\u001b[1;33m \u001b[0mgreeting\u001b[0m\u001b[1;33m[\u001b[0m\u001b[1;36m0\u001b[0m\u001b[1;33m]\u001b[0m\u001b[1;33m=\u001b[0m\u001b[1;34m'J'\u001b[0m\u001b[1;33m\u001b[0m\u001b[1;33m\u001b[0m\u001b[0m\n\u001b[0m\u001b[0;32m      3\u001b[0m \u001b[0mprint\u001b[0m\u001b[1;33m(\u001b[0m\u001b[0mgreeting\u001b[0m\u001b[1;33m)\u001b[0m\u001b[1;33m\u001b[0m\u001b[1;33m\u001b[0m\u001b[0m\n",
      "\u001b[1;31mTypeError\u001b[0m: 'str' object does not support item assignment"
     ]
    }
   ],
   "source": [
    "greeting='Hello World'\n",
    "greeting[0]='J'\n",
    "print(greeting)\n",
    "#String object doesnt support item assignment"
   ]
  },
  {
   "cell_type": "code",
   "execution_count": 6,
   "metadata": {},
   "outputs": [
    {
     "name": "stdout",
     "output_type": "stream",
     "text": [
      "jello World\n"
     ]
    }
   ],
   "source": [
    "new_greeting='j'+greeting[1:]\n",
    "print(new_greeting)"
   ]
  },
  {
   "cell_type": "code",
   "execution_count": 7,
   "metadata": {},
   "outputs": [
    {
     "name": "stdout",
     "output_type": "stream",
     "text": [
      "['one', 'three']\n"
     ]
    }
   ],
   "source": [
    "#LIST ELEMENT DELETION\n",
    "a=['one','two','three']\n",
    "del a[1]\n",
    "print(a)"
   ]
  },
  {
   "cell_type": "code",
   "execution_count": 8,
   "metadata": {},
   "outputs": [
    {
     "name": "stdout",
     "output_type": "stream",
     "text": [
      "['a', 'b']\n"
     ]
    }
   ],
   "source": [
    "a=['a','b','c','5m','gd']\n",
    "del a[2:6]\n",
    "print(a)"
   ]
  },
  {
   "cell_type": "code",
   "execution_count": 9,
   "metadata": {},
   "outputs": [
    {
     "name": "stdout",
     "output_type": "stream",
     "text": [
      "True\n"
     ]
    }
   ],
   "source": [
    "#OBJECTS AND REFERENCES\n",
    "a='banana'\n",
    "b=\"banana\"\n",
    "print(a is b)"
   ]
  },
  {
   "cell_type": "code",
   "execution_count": 10,
   "metadata": {},
   "outputs": [
    {
     "name": "stdout",
     "output_type": "stream",
     "text": [
      "73749056\n"
     ]
    }
   ],
   "source": [
    "print(id(a))"
   ]
  },
  {
   "cell_type": "code",
   "execution_count": 11,
   "metadata": {},
   "outputs": [
    {
     "name": "stdout",
     "output_type": "stream",
     "text": [
      "73749056\n"
     ]
    }
   ],
   "source": [
    "print(id(b))"
   ]
  },
  {
   "cell_type": "code",
   "execution_count": 12,
   "metadata": {},
   "outputs": [
    {
     "ename": "SyntaxError",
     "evalue": "invalid syntax (<ipython-input-12-5b4372402e7d>, line 10)",
     "output_type": "error",
     "traceback": [
      "\u001b[1;36m  File \u001b[1;32m\"<ipython-input-12-5b4372402e7d>\"\u001b[1;36m, line \u001b[1;32m10\u001b[0m\n\u001b[1;33m    b[0]=5\u001b[0m\n\u001b[1;37m    ^\u001b[0m\n\u001b[1;31mSyntaxError\u001b[0m\u001b[1;31m:\u001b[0m invalid syntax\n"
     ]
    }
   ],
   "source": [
    "#ALAISING\n",
    "a=[81,82,82]\n",
    "b=[82,82,83]\n",
    "print(a is b)\n",
    "\n",
    "b=a\n",
    "print(a==b)\n",
    "print(a is b\n",
    "     \n",
    "b[0]=5\n",
    "print(a)"
   ]
  },
  {
   "cell_type": "code",
   "execution_count": 13,
   "metadata": {},
   "outputs": [
    {
     "name": "stdout",
     "output_type": "stream",
     "text": [
      "[81, 82, 83]\n",
      "[81, 82, 83]\n"
     ]
    }
   ],
   "source": [
    "#Clonning lists\n",
    "a=[81,82,83]\n",
    "\n",
    "b=a[:]#makes a clone using slice\n",
    "\n",
    "print(a)\n",
    "print(b)"
   ]
  },
  {
   "cell_type": "code",
   "execution_count": 14,
   "metadata": {},
   "outputs": [],
   "source": [
    "#Sequence Mutation\n",
    " \n",
    "#list are mutable while strings and tuples are not mutable"
   ]
  },
  {
   "cell_type": "code",
   "execution_count": 15,
   "metadata": {},
   "outputs": [
    {
     "name": "stdout",
     "output_type": "stream",
     "text": [
      "[1, 23, 542, 3, 910]\n"
     ]
    }
   ],
   "source": [
    "#Mutating Methods\n",
    "\n",
    "mylist=[1,23,542]\n",
    "\n",
    "mylist.append(3)\n",
    "mylist.append(910)\n",
    "print(mylist)"
   ]
  },
  {
   "cell_type": "code",
   "execution_count": 17,
   "metadata": {},
   "outputs": [
    {
     "name": "stdout",
     "output_type": "stream",
     "text": [
      "[1, 12, 12, 23, 542, 3, 910]\n"
     ]
    }
   ],
   "source": [
    "mylist.insert(1,12)\n",
    "print(mylist)"
   ]
  },
  {
   "cell_type": "code",
   "execution_count": 18,
   "metadata": {},
   "outputs": [
    {
     "name": "stdout",
     "output_type": "stream",
     "text": [
      "2\n"
     ]
    }
   ],
   "source": [
    "print(mylist.count(12))"
   ]
  },
  {
   "cell_type": "code",
   "execution_count": 19,
   "metadata": {},
   "outputs": [
    {
     "name": "stdout",
     "output_type": "stream",
     "text": [
      "1\n",
      "5\n"
     ]
    }
   ],
   "source": [
    "print(mylist.index(12))\n",
    "print(mylist.index(3))"
   ]
  },
  {
   "cell_type": "code",
   "execution_count": 20,
   "metadata": {},
   "outputs": [
    {
     "name": "stdout",
     "output_type": "stream",
     "text": [
      "[910, 3, 542, 23, 12, 12, 1]\n"
     ]
    }
   ],
   "source": [
    "mylist.reverse()\n",
    "print(mylist)"
   ]
  },
  {
   "cell_type": "code",
   "execution_count": 21,
   "metadata": {},
   "outputs": [
    {
     "name": "stdout",
     "output_type": "stream",
     "text": [
      "[1, 3, 12, 12, 23, 542, 910]\n"
     ]
    }
   ],
   "source": [
    "mylist.sort()\n",
    "print(mylist)"
   ]
  },
  {
   "cell_type": "code",
   "execution_count": 22,
   "metadata": {},
   "outputs": [
    {
     "name": "stdout",
     "output_type": "stream",
     "text": [
      "[1, 3, 12, 23, 542, 910]\n"
     ]
    }
   ],
   "source": [
    "mylist.remove(12) #there were 2 12`s but only 1 is removed\n",
    "print(mylist)"
   ]
  },
  {
   "cell_type": "code",
   "execution_count": 23,
   "metadata": {},
   "outputs": [
    {
     "name": "stdout",
     "output_type": "stream",
     "text": [
      "910\n",
      "[1, 3, 12, 23, 542]\n"
     ]
    }
   ],
   "source": [
    "lastitem=mylist.pop()\n",
    "print(lastitem)\n",
    "print(mylist)"
   ]
  },
  {
   "cell_type": "code",
   "execution_count": 24,
   "metadata": {},
   "outputs": [
    {
     "name": "stdout",
     "output_type": "stream",
     "text": [
      "[45, 23, 88, 'cat']\n"
     ]
    }
   ],
   "source": [
    "#Append vs Concatenate\n",
    "original_list=[45,23,88]\n",
    "original_list=original_list+[\"cat\"]\n",
    "print(original_list)"
   ]
  },
  {
   "cell_type": "code",
   "execution_count": 26,
   "metadata": {},
   "outputs": [
    {
     "name": "stdout",
     "output_type": "stream",
     "text": [
      "original: [45, 23, 88]\n",
      "the identifier :  89588000\n",
      "new :  [45, 23, 88, 'cat']\n",
      "the identifier :  89606904\n",
      "original :  [45, 23, 88, 'cat']\n",
      "the identifier : 89588000\n"
     ]
    }
   ],
   "source": [
    "original_list=[45,23,88]\n",
    "print(\"original:\",original_list)\n",
    "print(\"the identifier : \",id(original_list))\n",
    "new_list=original_list+['cat']\n",
    "print(\"new : \",new_list)\n",
    "print(\"the identifier : \",id(new_list))\n",
    "original_list.append('cat')\n",
    "print(\"original : \",original_list)\n",
    "print(\"the identifier :\" ,id(original_list))"
   ]
  },
  {
   "cell_type": "code",
   "execution_count": 27,
   "metadata": {},
   "outputs": [
    {
     "name": "stdout",
     "output_type": "stream",
     "text": [
      "hello world\n",
      "HELLO WORLD\n",
      "Hello World\n"
     ]
    }
   ],
   "source": [
    "#Non-Mutating Methods on Strings\n",
    "ss=\"Hello World\"\n",
    "print(ss.lower())\n",
    "\n",
    "tt=ss.upper()\n",
    "print(tt)\n",
    "print(ss)"
   ]
  },
  {
   "cell_type": "code",
   "execution_count": 30,
   "metadata": {},
   "outputs": [
    {
     "name": "stdout",
     "output_type": "stream",
     "text": [
      "3\n",
      "***Hello World***\n",
      "Hell*** W***rld\n"
     ]
    }
   ],
   "source": [
    "ss=\"Hello World\"\n",
    "els=ss.count('l')\n",
    "print(els)\n",
    "\n",
    "print(\"***\"+ss.strip()+\"***\") #strip() gets rid-off the white spaces at the beginning and at the end\n",
    "\n",
    "news=ss.replace(\"o\",\"***\")\n",
    "print(news)"
   ]
  },
  {
   "cell_type": "code",
   "execution_count": 31,
   "metadata": {},
   "outputs": [
    {
     "name": "stdout",
     "output_type": "stream",
     "text": [
      "Hello Abhishek Shinde your score is -1\n"
     ]
    }
   ],
   "source": [
    "#String Format Method\n",
    "\n",
    "name=\"Abhishek Shinde\"\n",
    "score=-1\n",
    "print(\"Hello \"+name+\" your score is \"+str(score))"
   ]
  },
  {
   "cell_type": "code",
   "execution_count": 32,
   "metadata": {},
   "outputs": [
    {
     "name": "stdout",
     "output_type": "stream",
     "text": [
      "Hello Aditya Shinde. Your score is 99\n",
      "Hello Abhishek Shinde. Your score is 69\n",
      "Hello Ganesh Shinde. Your score is 81\n"
     ]
    }
   ],
   "source": [
    "scores=[(\"Aditya Shinde\",99),(\"Abhishek Shinde\",69),(\"Ganesh Shinde\",81)]\n",
    "for person in scores:\n",
    "    name=person[0]\n",
    "    score=person[1]\n",
    "    print(\"Hello {}. Your score is {}\".format(name,score))"
   ]
  },
  {
   "cell_type": "code",
   "execution_count": 33,
   "metadata": {},
   "outputs": [
    {
     "name": "stdout",
     "output_type": "stream",
     "text": [
      "Hello Aditya Shinde. Your score is 99\n",
      "Hello Abhishek Shinde. Your score is 69\n",
      "Hello Ganesh Shinde. Your score is 81\n"
     ]
    }
   ],
   "source": [
    "scores=[(\"Aditya Shinde\",99),(\"Abhishek Shinde\",69),(\"Ganesh Shinde\",81)]\n",
    "for person in scores:\n",
    "    print(\"Hello {}. Your score is {}\".format(person[0],person[1]))"
   ]
  },
  {
   "cell_type": "code",
   "execution_count": 35,
   "metadata": {},
   "outputs": [
    {
     "name": "stdout",
     "output_type": "stream",
     "text": [
      "Enter original price ('$') : 89.99\n",
      "Enter discount (%) : 20\n",
      "$89.99 discounted by 20.0% is $71.9920\n"
     ]
    }
   ],
   "source": [
    "oriPrice=float(input(\"Enter original price ('$') : \"))\n",
    "discount=float(input(\"Enter discount (%) : \"))\n",
    "newPrice=(1-discount/100)*oriPrice\n",
    "calculation=\"${:.2f} discounted by {}% is ${:.4f}\".format(oriPrice,discount,newPrice)\n",
    "print(calculation)"
   ]
  },
  {
   "cell_type": "code",
   "execution_count": 36,
   "metadata": {},
   "outputs": [
    {
     "name": "stdout",
     "output_type": "stream",
     "text": [
      "[9, 25, 64]\n"
     ]
    }
   ],
   "source": [
    "#Accumulating Lists \n",
    "nums=[3,5,8]\n",
    "accm=[]\n",
    "for w in nums:\n",
    "    x=w**2\n",
    "    accm.append(x)\n",
    "print(accm)"
   ]
  },
  {
   "cell_type": "code",
   "execution_count": 37,
   "metadata": {},
   "outputs": [
    {
     "name": "stdout",
     "output_type": "stream",
     "text": [
      "Enter some text :cat\n",
      "c-c-a-a-t-t-\n"
     ]
    }
   ],
   "source": [
    "#Accumulatiing Strings\n",
    "s=input(\"Enter some text :\")\n",
    "ac=\"\"\n",
    "\n",
    "for c in s:\n",
    "    ac=ac+c+\"-\"+c+\"-\"\n",
    "print(ac)"
   ]
  },
  {
   "cell_type": "code",
   "execution_count": 38,
   "metadata": {},
   "outputs": [],
   "source": [
    "trav_dest = ['Beirut', 'Milan', 'Pittsburgh', 'Buenos Aires', 'Nairobi', 'Kathmandu', 'Osaka', 'London', 'Melbourne']\n",
    "\n",
    "trav_dest.remove('London')\n"
   ]
  },
  {
   "cell_type": "code",
   "execution_count": 39,
   "metadata": {},
   "outputs": [
    {
     "name": "stdout",
     "output_type": "stream",
     "text": [
      "['Beirut', 'Milan', 'Pittsburgh', 'Buenos Aires', 'Nairobi', 'Kathmandu', 'Osaka', 'Melbourne']\n"
     ]
    }
   ],
   "source": [
    "print(trav_dest)"
   ]
  },
  {
   "cell_type": "code",
   "execution_count": 44,
   "metadata": {},
   "outputs": [
    {
     "name": "stdout",
     "output_type": "stream",
     "text": [
      "['Alice Munro', 'Alvin E. Roth', 'Kazuo Ishiguro', 'Malala Yousafzai', 'Rainer Weiss', 'Youyou Tu']\n",
      "['Youyou Tu', 'Rainer Weiss', 'Malala Yousafzai', 'Kazuo Ishiguro', 'Alvin E. Roth', 'Alice Munro']\n"
     ]
    }
   ],
   "source": [
    "winners = ['Alice Munro', 'Alvin E. Roth', 'Kazuo Ishiguro', 'Malala Yousafzai', 'Rainer Weiss', 'Youyou Tu']\n",
    "\n",
    "z_winners=winners\n",
    "print(z_winners)\n",
    "\n",
    "z_winners.reverse()\n",
    "print(z_winners)"
   ]
  },
  {
   "cell_type": "code",
   "execution_count": 1,
   "metadata": {},
   "outputs": [
    {
     "name": "stdout",
     "output_type": "stream",
     "text": [
      "['I', ' ', 'l', 'o', 'v', 'e', ' ', 'p', 'y', 't', 'h', 'o', 'n']\n"
     ]
    }
   ],
   "source": [
    "str1 = \"I love python\"\n",
    "\n",
    "chars=[]\n",
    "for letter in str1:\n",
    "    chars.append(letter)\n",
    "print(chars)"
   ]
  },
  {
   "cell_type": "code",
   "execution_count": 2,
   "metadata": {},
   "outputs": [],
   "source": [
    "a = [\"holiday\", \"celebrate!\"]\n",
    "quiet = a\n",
    "quiet.append(\"company\")\n"
   ]
  },
  {
   "cell_type": "code",
   "execution_count": 3,
   "metadata": {},
   "outputs": [
    {
     "name": "stdout",
     "output_type": "stream",
     "text": [
      "['holiday', 'celebrate!', 'company']\n"
     ]
    }
   ],
   "source": [
    "print(a)"
   ]
  },
  {
   "cell_type": "code",
   "execution_count": 4,
   "metadata": {},
   "outputs": [
    {
     "name": "stdout",
     "output_type": "stream",
     "text": [
      "['ended', 'worked', 'played', 'started', 'walked', 'looked', 'opened', 'rained', 'learned', 'cleaned']\n"
     ]
    }
   ],
   "source": [
    "wrds = [\"end\", 'work', \"play\", \"start\", \"walk\", \"look\", \"open\", \"rain\", \"learn\", \"clean\"]\n",
    "\n",
    "past_words=[]\n",
    "for word in wrds:\n",
    "    past_words.append(word+\"ed\")\n",
    "print(past_words)"
   ]
  },
  {
   "cell_type": "code",
   "execution_count": 6,
   "metadata": {},
   "outputs": [
    {
     "name": "stdout",
     "output_type": "stream",
     "text": [
      "10\n"
     ]
    }
   ],
   "source": [
    "scores = \"67 80 90 78 93 20 79 89 96 97 92 88 79 68 58 90 98 100 79 74 83 88 80 86 85 70 90 100\"\n",
    "\n",
    "nums=scores.split()\n",
    "a_scores=0\n",
    "for num in nums:\n",
    "    if int(num)>=90:\n",
    "        a_scores+=1\n",
    "print(a_scores)"
   ]
  },
  {
   "cell_type": "code",
   "execution_count": 8,
   "metadata": {},
   "outputs": [
    {
     "name": "stdout",
     "output_type": "stream",
     "text": [
      "OHSE\n"
     ]
    }
   ],
   "source": [
    "stopwords = ['to', 'a', 'for', 'by', 'an', 'am', 'the', 'so', 'it', 'and', \"The\"]\n",
    "org = \"The organization for health, safety, and education\"\n",
    "\n",
    "acro=\"\"\n",
    "lst=org.split()\n",
    "#print(lst)\n",
    "for word in lst:\n",
    "    if word not in stopwords:\n",
    "        acro=acro+word[0].upper()\n",
    "print(acro)"
   ]
  },
  {
   "cell_type": "code",
   "execution_count": 12,
   "metadata": {},
   "outputs": [
    {
     "name": "stdout",
     "output_type": "stream",
     "text": [
      "WA. EA. AI. AR. VI. \n"
     ]
    }
   ],
   "source": [
    "stopwords = ['to', 'a', 'for', 'by', 'an', 'am', 'the', 'so', 'it', 'and', 'The']\n",
    "sent = \"The water earth and air are vital\"\n",
    "acro=\"\"\n",
    "lst=sent.split()\n",
    "#print(lst)\n",
    "for word in lst:\n",
    "    if word not in stopwords:\n",
    "        acro=acro+word[0:2].upper()+\". \"\n",
    "print(acro)"
   ]
  },
  {
   "cell_type": "code",
   "execution_count": 19,
   "metadata": {},
   "outputs": [
    {
     "name": "stdout",
     "output_type": "stream",
     "text": [
      "\n"
     ]
    }
   ],
   "source": [
    "p_phrase = \"was it a car or a cat I saw\"\n",
    "r_list=p_phrase.split()\n",
    "r_list.reverse()\n",
    "#print(r_list)\n",
    "r_phrase=\"\"\n",
    "for word in r_list:\n",
    "    r_phrase.join(\"\")\n",
    "print(r_phrase)"
   ]
  },
  {
   "cell_type": "code",
   "execution_count": 22,
   "metadata": {},
   "outputs": [
    {
     "name": "stdout",
     "output_type": "stream",
     "text": [
      "The string is not palindrome\n"
     ]
    }
   ],
   "source": [
    "p_phrase = \"was it a car or a cat I saw\"\n",
    "r_phrase=p_phrase[::-1]\n",
    "#print(r_phrase)\n",
    "if p_phrase == r_phrase:\n",
    "    print('The string is palindrome')\n",
    "else:\n",
    "    print('The string is not palindrome')"
   ]
  },
  {
   "cell_type": "code",
   "execution_count": 29,
   "metadata": {},
   "outputs": [
    {
     "name": "stdout",
     "output_type": "stream",
     "text": [
      "['shoes', ' 12', ' 29.99']\n",
      "shoes  12  29.99\n",
      "The store has shoes  12, each for  29.99 USD\n",
      "['shirts', ' 20', ' 9.99']\n",
      "shirts  20  9.99\n",
      "The store has shirts  20, each for  9.99 USD\n",
      "['sweatpants', ' 25', ' 15.00']\n",
      "sweatpants  25  15.00\n",
      "The store has sweatpants  25, each for  15.00 USD\n",
      "['scarves', ' 13', ' 7.75']\n",
      "scarves  13  7.75\n",
      "The store has scarves  13, each for  7.75 USD\n"
     ]
    }
   ],
   "source": [
    "inventory = [\"shoes, 12, 29.99\", \"shirts, 20, 9.99\", \"sweatpants, 25, 15.00\", \"scarves, 13, 7.75\"]\n",
    "\n",
    "for item in inventory:\n",
    "    lst=item.split(',')\n",
    "    print(lst)\n",
    "    name=lst[0]\n",
    "    qty=lst[1]\n",
    "    cost=lst[2]\n",
    "    print(name,qty,cost)\n",
    "    print('The store has {} {}, each for {} USD'.format(name,qty,cost))\n"
   ]
  },
  {
   "cell_type": "code",
   "execution_count": null,
   "metadata": {},
   "outputs": [],
   "source": []
  }
 ],
 "metadata": {
  "kernelspec": {
   "display_name": "Python 3",
   "language": "python",
   "name": "python3"
  },
  "language_info": {
   "codemirror_mode": {
    "name": "ipython",
    "version": 3
   },
   "file_extension": ".py",
   "mimetype": "text/x-python",
   "name": "python",
   "nbconvert_exporter": "python",
   "pygments_lexer": "ipython3",
   "version": "3.7.3"
  }
 },
 "nbformat": 4,
 "nbformat_minor": 2
}
